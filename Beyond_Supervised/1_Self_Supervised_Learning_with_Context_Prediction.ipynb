{
  "nbformat": 4,
  "nbformat_minor": 0,
  "metadata": {
    "kernelspec": {
      "display_name": "Python 2",
      "language": "python",
      "name": "python2"
    },
    "language_info": {
      "codemirror_mode": {
        "name": "ipython",
        "version": 2
      },
      "file_extension": ".py",
      "mimetype": "text/x-python",
      "name": "python",
      "nbconvert_exporter": "python",
      "pygments_lexer": "ipython2",
      "version": "2.7.12"
    },
    "colab": {
      "name": "1-Self-Supervised_Learning_with_Context_Prediction.ipynb",
      "provenance": [],
      "include_colab_link": true
    }
  },
  "cells": [
    {
      "cell_type": "markdown",
      "metadata": {
        "id": "view-in-github",
        "colab_type": "text"
      },
      "source": [
        "<a href=\"https://colab.research.google.com/github/ThrupthiAnn/CVSummerSchool2021/blob/main/Beyond_Supervised/1_Self_Supervised_Learning_with_Context_Prediction.ipynb\" target=\"_parent\"><img src=\"https://colab.research.google.com/assets/colab-badge.svg\" alt=\"Open In Colab\"/></a>"
      ]
    },
    {
      "cell_type": "markdown",
      "metadata": {
        "id": "MuwdZrRDRIhn"
      },
      "source": [
        "# Unsupervised Visual Representation Learning by Context Prediction\n",
        "### Carl Doersch, Abhinav Gupta, and Alexei A. Efros.\n",
        "### ICCV, 2015\n",
        "<a href=\"https://arxiv.org/pdf/1505.05192.pdf\">[Paper]</a>"
      ]
    },
    {
      "cell_type": "markdown",
      "metadata": {
        "id": "sB29teIfRIh4"
      },
      "source": [
        "<img src=\"images/doersch_1.png\" width = 400>"
      ]
    },
    {
      "cell_type": "markdown",
      "metadata": {
        "id": "5qipPgwqRIh9"
      },
      "source": [
        "There are millions of unannotated data available on the web. Can we use these data to effectively learn a useful representation? One such way is unsupervised learning with denoising autoencoder. There are many other such tasks that could lead to better feature learning while incurring no annotation cost. We will look into Context Prediction in this notebook.\n",
        "\n",
        "The idea in this paper is simple. Given two neighboring tiles (indicated with red and blue squares) from an image, the model tries to predict their relative positions. In order to do this task effectively, the model needs to learns the discriminative representations of the patches that constitutes the object. \n",
        "\n",
        "The (self-) supervision in the form of relative position is obtained with no cost and is effective in learning useful representations.\n",
        "\n",
        "We pass each patch through an encoder network (AlexNet, VGG, ResNets, etc.) and get their representations. We then use the concatenated representation of these patches to classify their relative positions."
      ]
    },
    {
      "cell_type": "markdown",
      "metadata": {
        "id": "_Yi-3KYnRIiC"
      },
      "source": [
        "\n",
        "We will be using <a href=\"http://vis-www.cs.umass.edu/lfw/part_labels/\">Part Labels dataset</a> in this experiment. The task is to label each pixel in the image into one of three classes: Background (blue), Hair (red), and skin (green).\n",
        "<img src=\"http://vis-www.cs.umass.edu/lfw/part_labels/images/img_funneled.jpg\" width=100><img src=\"http://vis-www.cs.umass.edu/lfw/part_labels/images/img_ground_truth.png\" width=100> <br/>\n",
        "There are 13,233 images in total, out of which 2,927 have been labeled. There are 1,500 train, 500 val, and 927 test images. We will be using only 10% of the training set in our experiments. For self-supervised pre-training we will use 5,000 images (available splits are: $ \\tt train\\_unlabeled\\_2k.txt, train\\_unlabeled\\_5k.txt, train\\_unlabeled\\_10k.txt$)."
      ]
    },
    {
      "cell_type": "code",
      "metadata": {
        "colab": {
          "base_uri": "https://localhost:8080/"
        },
        "id": "HTWw_muvdsSc",
        "outputId": "bc03f799-1d7b-467b-d6c6-6bd8062a63d5"
      },
      "source": [
        "! wget https://github.com/ThrupthiAnn/CVSummerSchool2021/raw/main/Beyond_Supervised/library.zip\n",
        "! unzip library.zip"
      ],
      "execution_count": null,
      "outputs": [
        {
          "output_type": "stream",
          "text": [
            "--2021-08-02 01:25:18--  https://github.com/ThrupthiAnn/CVSummerSchool2021/raw/main/Beyond_Supervised/library.zip\n",
            "Resolving github.com (github.com)... 140.82.113.3\n",
            "Connecting to github.com (github.com)|140.82.113.3|:443... connected.\n",
            "HTTP request sent, awaiting response... 302 Found\n",
            "Location: https://raw.githubusercontent.com/ThrupthiAnn/CVSummerSchool2021/main/Beyond_Supervised/library.zip [following]\n",
            "--2021-08-02 01:25:18--  https://raw.githubusercontent.com/ThrupthiAnn/CVSummerSchool2021/main/Beyond_Supervised/library.zip\n",
            "Resolving raw.githubusercontent.com (raw.githubusercontent.com)... 185.199.108.133, 185.199.109.133, 185.199.110.133, ...\n",
            "Connecting to raw.githubusercontent.com (raw.githubusercontent.com)|185.199.108.133|:443... connected.\n",
            "HTTP request sent, awaiting response... 200 OK\n",
            "Length: 6149 (6.0K) [application/zip]\n",
            "Saving to: ‘library.zip.1’\n",
            "\n",
            "\rlibrary.zip.1         0%[                    ]       0  --.-KB/s               \rlibrary.zip.1       100%[===================>]   6.00K  --.-KB/s    in 0s      \n",
            "\n",
            "2021-08-02 01:25:18 (33.6 MB/s) - ‘library.zip.1’ saved [6149/6149]\n",
            "\n",
            "Archive:  library.zip\n",
            "  inflating: enc_dec.py              \n",
            "  inflating: inpaint_utils.py        \n",
            "  inflating: loss.py                 \n",
            "  inflating: relative_utils.py       \n",
            "  inflating: seg_utils.py            \n",
            "  inflating: utils.py                \n"
          ],
          "name": "stdout"
        }
      ]
    },
    {
      "cell_type": "code",
      "metadata": {
        "collapsed": true,
        "id": "31OXXj2DRIiH"
      },
      "source": [
        "import torch\n",
        "import torch.optim as optim\n",
        "import torchvision\n",
        "import torchvision.transforms as transforms\n",
        "from torch.autograd import Variable\n",
        "import torch.nn as nn\n",
        "\n",
        "### import other stuffs\n",
        "from enc_dec import encoder\n",
        "from utils import *\n",
        "from relative_utils import *\n",
        "import matplotlib.pyplot as plt\n",
        "DATA_ROOT = '/tmp/school/data/beyond_supervised/'"
      ],
      "execution_count": null,
      "outputs": []
    },
    {
      "cell_type": "code",
      "metadata": {
        "colab": {
          "base_uri": "https://localhost:8080/"
        },
        "id": "vi682eNxSOiU",
        "outputId": "9652033a-5661-4d18-c0c5-d7ea464648ef"
      },
      "source": [
        "# download LFW\n",
        "! wget http://vis-www.cs.umass.edu/lfw/lfw-funneled.tgz\n",
        "! tar -xf lfw-funneled.tgz\n",
        "# ! wget http://vis-www.cs.umass.edu/lfw/part_labels/parts_lfw_funneled_superpixels_mat.tgz\n",
        "# ! tar -xf parts_lfw_funneled_superpixels_mat.tgz\n",
        "\n",
        "! ls\n"
      ],
      "execution_count": null,
      "outputs": [
        {
          "output_type": "stream",
          "text": [
            "--2021-08-01 10:41:28--  http://vis-www.cs.umass.edu/lfw/lfw-funneled.tgz\n",
            "Resolving vis-www.cs.umass.edu (vis-www.cs.umass.edu)... 128.119.244.95\n",
            "Connecting to vis-www.cs.umass.edu (vis-www.cs.umass.edu)|128.119.244.95|:80... connected.\n",
            "HTTP request sent, awaiting response... 200 OK\n",
            "Length: 243346528 (232M) [application/x-gzip]\n",
            "Saving to: ‘lfw-funneled.tgz.1’\n",
            "\n",
            "lfw-funneled.tgz.1  100%[===================>] 232.07M  91.1MB/s    in 2.5s    \n",
            "\n",
            "2021-08-01 10:41:31 (91.1 MB/s) - ‘lfw-funneled.tgz.1’ saved [243346528/243346528]\n",
            "\n",
            "--2021-08-01 10:41:35--  http://vis-www.cs.umass.edu/lfw/part_labels/parts_lfw_funneled_superpixels_mat.tgz\n",
            "Resolving vis-www.cs.umass.edu (vis-www.cs.umass.edu)... 128.119.244.95\n",
            "Connecting to vis-www.cs.umass.edu (vis-www.cs.umass.edu)|128.119.244.95|:80... connected.\n",
            "HTTP request sent, awaiting response... 200 OK\n",
            "Length: 23538493 (22M) [application/x-gzip]\n",
            "Saving to: ‘parts_lfw_funneled_superpixels_mat.tgz’\n",
            "\n",
            "parts_lfw_funneled_ 100%[===================>]  22.45M  50.6MB/s    in 0.4s    \n",
            "\n",
            "2021-08-01 10:41:36 (50.6 MB/s) - ‘parts_lfw_funneled_superpixels_mat.tgz’ saved [23538493/23538493]\n",
            "\n",
            "lfw\t\t    lfw.tgz\n",
            "lfw_funneled\t    parts_lfw_funneled_superpixels_mat\n",
            "lfw-funneled.tgz    parts_lfw_funneled_superpixels_mat.tgz\n",
            "lfw-funneled.tgz.1  sample_data\n"
          ],
          "name": "stdout"
        }
      ]
    },
    {
      "cell_type": "code",
      "metadata": {
        "collapsed": true,
        "id": "N9BOGT4iRIiL"
      },
      "source": [
        "### define dataset paths\n",
        "train_img_root = DATA_ROOT + 'part_labels/data/all/'\n",
        "train_image_list = DATA_ROOT + 'part_labels/splits/train_unlabeled_5k.txt'\n",
        "\n",
        "val_img_root = DATA_ROOT + 'part_labels/data/all/'\n",
        "val_image_list = DATA_ROOT + 'part_labels/splits/val_unlabeled_500.txt'"
      ],
      "execution_count": null,
      "outputs": []
    },
    {
      "cell_type": "code",
      "metadata": {
        "collapsed": true,
        "id": "s33uX56vRIiP"
      },
      "source": [
        "crop_shape = (64,64)\n",
        "train_loader = torch.utils.data.DataLoader(RelativeTileDataLoader(img_root = train_img_root,\n",
        "                                                                  image_list = train_image_list, crop_shape = crop_shape,mirror = True),\n",
        "                                           batch_size=128, num_workers=2, shuffle = True, pin_memory=False)\n",
        "\n",
        "val_loader = torch.utils.data.DataLoader(RelativeTileDataLoader(img_root = val_img_root,\n",
        "                                                                  image_list = val_image_list, crop_shape = crop_shape, mirror = True),\n",
        "                                           batch_size=32, num_workers=2, shuffle = False, pin_memory=False)"
      ],
      "execution_count": null,
      "outputs": []
    },
    {
      "cell_type": "markdown",
      "metadata": {
        "id": "3_gVTHJRRIiU"
      },
      "source": [
        "We define an encoder architecture with 4 convolution layers. We will use context prediction technique to pre-train the encoder in self-supervised way and later use it for face parsing in 3rd notebook."
      ]
    },
    {
      "cell_type": "markdown",
      "metadata": {
        "id": "oD74Oa7aRIiZ"
      },
      "source": [
        "<img src=\"https://docs.google.com/drawings/d/e/2PACX-1vQ8zrtcyVOGwxvd8HgccmSWQad_WKefGT_KDQIu61IcAgzYw-MxfYWgwPKI25mu7etpm2b09jBwoqgj/pub?w=1413&h=360\" width = 1200>"
      ]
    },
    {
      "cell_type": "code",
      "metadata": {
        "collapsed": true,
        "id": "mQpw4vexRIif"
      },
      "source": [
        "net = encoder().cuda()\n",
        "experiment = 'self_supervised_pre_train_relative_tile'"
      ],
      "execution_count": null,
      "outputs": []
    },
    {
      "cell_type": "code",
      "metadata": {
        "id": "WUO6o9SzRIih"
      },
      "source": [
        "print('Net params count (M): ', param_counts(net)/(1000000.0))"
      ],
      "execution_count": null,
      "outputs": []
    },
    {
      "cell_type": "code",
      "metadata": {
        "collapsed": true,
        "id": "-87nbAUWRIij"
      },
      "source": [
        "\"\"\"simple mlp\"\"\"\n",
        "mlp = nn.Sequential(nn.Linear(2048,16),nn.ReLU(),nn.Dropout(0.5),nn.Linear(16,8)).cuda()"
      ],
      "execution_count": null,
      "outputs": []
    },
    {
      "cell_type": "code",
      "metadata": {
        "collapsed": true,
        "id": "X4Rli2ZjRIil"
      },
      "source": [
        "use_cuda = torch.cuda.is_available()\n",
        "best_loss = 9999  # best val loss"
      ],
      "execution_count": null,
      "outputs": []
    },
    {
      "cell_type": "code",
      "metadata": {
        "collapsed": true,
        "id": "DSAkUBKtRIin"
      },
      "source": [
        "loss_fn = nn.CrossEntropyLoss()\n",
        "def train(epoch):\n",
        "    print('\\nTrain epoch: %d' % epoch)\n",
        "    net.train()\n",
        "    mlp.train()\n",
        "    train_loss = 0\n",
        "\n",
        "    for batch_idx, (center_crops, random_crops, class_idxs, class_locs) in enumerate(train_loader):\n",
        "\n",
        "        if use_cuda:\n",
        "            center_crops, random_crops, class_idxs = center_crops.cuda(), random_crops.cuda(), class_idxs.cuda()\n",
        "        optimizer.zero_grad()\n",
        "        \n",
        "        center_crops = Variable(center_crops,requires_grad = True)\n",
        "        random_crops = Variable(random_crops,requires_grad = True)\n",
        "        class_idxs = Variable(class_idxs,requires_grad = False)\n",
        "        \n",
        "        v = torch.cat( (net(center_crops).view(center_crops.size()[0],-1),net(random_crops).view(center_crops.size()[0],-1)),1 )\n",
        "\n",
        "        outputs = mlp(v)\n",
        "        loss = loss_fn(outputs,class_idxs)\n",
        "        \n",
        "\n",
        "        loss.backward()\n",
        "        optimizer.step()\n",
        "        train_loss += loss.data[0]\n",
        "        \n",
        "    print('Loss: %f '% (train_loss/(batch_idx+1)))"
      ],
      "execution_count": null,
      "outputs": []
    },
    {
      "cell_type": "code",
      "metadata": {
        "collapsed": true,
        "id": "8KlxSfnJRIis"
      },
      "source": [
        "def val(epoch):\n",
        "    print('\\nVal epoch: %d' % epoch)\n",
        "    global best_loss\n",
        "    net.eval()\n",
        "    mlp.eval()\n",
        "    val_loss = 0\n",
        "    for batch_idx, (center_crops, random_crops, class_idxs, class_locs) in enumerate(val_loader):\n",
        "        if use_cuda:\n",
        "            center_crops,random_crops,class_idxs = center_crops.cuda(),random_crops.cuda(),class_idxs.cuda()\n",
        "        center_crops = Variable(center_crops,requires_grad=True)\n",
        "        random_crops = Variable(random_crops,requires_grad=True)\n",
        "        class_idxs = Variable(class_idxs,requires_grad=False)\n",
        "        v = torch.cat((net(center_crops).view(center_crops.size()[0],-1),net(random_crops).view(random_crops.size()[0],-1)),1)\n",
        "        outputs = mlp(v)\n",
        "        loss = loss_fn(outputs,class_idxs)\n",
        "        val_loss += loss.data[0]\n",
        "        \n",
        "    print('Loss: %f '% (val_loss/(batch_idx+1)))\n",
        "    # Save checkpoint.\n",
        "    if val_loss < best_loss:\n",
        "        print('Saving..')\n",
        "        state = {'net': net}\n",
        "        if not os.path.isdir(DATA_ROOT + 'checkpoint'):\n",
        "            os.mkdir(DATA_ROOT + 'checkpoint')\n",
        "        torch.save(state, DATA_ROOT + 'checkpoint/'+experiment+'ckpt.t7')\n",
        "        best_loss = val_loss"
      ],
      "execution_count": null,
      "outputs": []
    },
    {
      "cell_type": "code",
      "metadata": {
        "scrolled": true,
        "id": "qPdc5tHRRIiu"
      },
      "source": [
        "optimizer = optim.SGD(list(net.parameters()) + list(mlp.parameters()), lr=0.01, momentum=0.9, weight_decay=0.0005)\n",
        "for epoch in range(0, 100):\n",
        "    if epoch == 80:\n",
        "        optimizer = optim.SGD(list(net.parameters()) + list(mlp.parameters()), lr=0.0001, momentum=0.9, weight_decay=0.0005)\n",
        "    if epoch == 60:\n",
        "        optimizer = optim.SGD(list(net.parameters()) + list(mlp.parameters()), lr=0.001, momentum=0.9, weight_decay=0.0005)\n",
        "    train(epoch)\n",
        "    val(epoch)"
      ],
      "execution_count": null,
      "outputs": []
    },
    {
      "cell_type": "code",
      "metadata": {
        "collapsed": true,
        "id": "NhVUa5JsRIiv"
      },
      "source": [
        ""
      ],
      "execution_count": null,
      "outputs": []
    }
  ]
}