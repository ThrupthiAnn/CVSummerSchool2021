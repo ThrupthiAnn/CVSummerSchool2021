{
  "nbformat": 4,
  "nbformat_minor": 0,
  "metadata": {
    "kernelspec": {
      "display_name": "Python 2",
      "language": "python",
      "name": "python2"
    },
    "language_info": {
      "codemirror_mode": {
        "name": "ipython",
        "version": 2
      },
      "file_extension": ".py",
      "mimetype": "text/x-python",
      "name": "python",
      "nbconvert_exporter": "python",
      "pygments_lexer": "ipython2",
      "version": "2.7.12"
    },
    "colab": {
      "name": "1-Self-Supervised_Learning_with_Context_Prediction.ipynb",
      "provenance": [],
      "include_colab_link": true
    }
  },
  "cells": [
    {
      "cell_type": "markdown",
      "metadata": {
        "id": "view-in-github",
        "colab_type": "text"
      },
      "source": [
        "<a href=\"https://colab.research.google.com/github/ThrupthiAnn/CVSummerSchool2021/blob/main/Beyond_Supervised/1_Self_Supervised_Learning_with_Context_Prediction.ipynb\" target=\"_parent\"><img src=\"https://colab.research.google.com/assets/colab-badge.svg\" alt=\"Open In Colab\"/></a>"
      ]
    },
    {
      "cell_type": "markdown",
      "metadata": {
        "id": "MuwdZrRDRIhn"
      },
      "source": [
        "# Unsupervised Visual Representation Learning by Context Prediction\n",
        "### Carl Doersch, Abhinav Gupta, and Alexei A. Efros.\n",
        "### ICCV, 2015\n",
        "<a href=\"https://arxiv.org/pdf/1505.05192.pdf\">[Paper]</a>"
      ]
    },
    {
      "cell_type": "markdown",
      "metadata": {
        "id": "sB29teIfRIh4"
      },
      "source": [
        "<img src=\"https://github.com/ThrupthiAnn/CVSummerSchool2021/blob/main/Beyond_Supervised/images/doersch_1.png?raw=1\" width = 400>"
      ]
    },
    {
      "cell_type": "markdown",
      "metadata": {
        "id": "5qipPgwqRIh9"
      },
      "source": [
        "There are millions of unannotated data available on the web. Can we use these data to effectively learn a useful representation? One such way is unsupervised learning with denoising autoencoder. There are many other such tasks that could lead to better feature learning while incurring no annotation cost. We will look into Context Prediction in this notebook.\n",
        "\n",
        "The idea in this paper is simple. Given two neighboring tiles (indicated with red and blue squares) from an image, the model tries to predict their relative positions. In order to do this task effectively, the model needs to learns the discriminative representations of the patches that constitutes the object. \n",
        "\n",
        "The (self-) supervision in the form of relative position is obtained with no cost and is effective in learning useful representations.\n",
        "\n",
        "We pass each patch through an encoder network (AlexNet, VGG, ResNets, etc.) and get their representations. We then use the concatenated representation of these patches to classify their relative positions."
      ]
    },
    {
      "cell_type": "markdown",
      "metadata": {
        "id": "_Yi-3KYnRIiC"
      },
      "source": [
        "\n",
        "We will be using <a href=\"http://vis-www.cs.umass.edu/lfw/part_labels/\">Part Labels dataset</a> in this experiment. The task is to label each pixel in the image into one of three classes: Background (blue), Hair (red), and skin (green).\n",
        "<img src=\"http://vis-www.cs.umass.edu/lfw/part_labels/images/img_funneled.jpg\" width=100><img src=\"http://vis-www.cs.umass.edu/lfw/part_labels/images/img_ground_truth.png\" width=100> <br/>\n",
        "There are 13,233 images in total, out of which 2,927 have been labeled. There are 1,500 train, 500 val, and 927 test images. We will be using only 10% of the training set in our experiments. For self-supervised pre-training we will use 5,000 images (available splits are: $ \\tt train\\_unlabeled\\_2k.txt, train\\_unlabeled\\_5k.txt, train\\_unlabeled\\_10k.txt$)."
      ]
    },
    {
      "cell_type": "code",
      "metadata": {
        "collapsed": true,
        "id": "31OXXj2DRIiH",
        "outputId": "60d501b1-cb72-4455-d7cd-e9ef48ab8232",
        "colab": {
          "base_uri": "https://localhost:8080/",
          "height": 378
        }
      },
      "source": [
        "import torch\n",
        "import torch.optim as optim\n",
        "import torchvision\n",
        "import torchvision.transforms as transforms\n",
        "from torch.autograd import Variable\n",
        "import torch.nn as nn\n",
        "\n",
        "### import other stuffs\n",
        "from enc_dec import encoder\n",
        "from utils import *\n",
        "from relative_utils import *\n",
        "import matplotlib.pyplot as plt\n",
        "DATA_ROOT = '/tmp/school/data/beyond_supervised/'"
      ],
      "execution_count": 7,
      "outputs": [
        {
          "output_type": "error",
          "ename": "ImportError",
          "evalue": "ignored",
          "traceback": [
            "\u001b[0;31m\u001b[0m",
            "\u001b[0;31mImportError\u001b[0mTraceback (most recent call last)",
            "\u001b[0;32m<ipython-input-7-55f53743856d>\u001b[0m in \u001b[0;36m<module>\u001b[0;34m()\u001b[0m\n\u001b[1;32m      7\u001b[0m \u001b[0;34m\u001b[0m\u001b[0m\n\u001b[1;32m      8\u001b[0m \u001b[0;31m### import other stuffs\u001b[0m\u001b[0;34m\u001b[0m\u001b[0;34m\u001b[0m\u001b[0m\n\u001b[0;32m----> 9\u001b[0;31m \u001b[0;32mfrom\u001b[0m \u001b[0menc_dec\u001b[0m \u001b[0;32mimport\u001b[0m \u001b[0mencoder\u001b[0m\u001b[0;34m\u001b[0m\u001b[0m\n\u001b[0m\u001b[1;32m     10\u001b[0m \u001b[0;32mfrom\u001b[0m \u001b[0mutils\u001b[0m \u001b[0;32mimport\u001b[0m \u001b[0;34m*\u001b[0m\u001b[0;34m\u001b[0m\u001b[0m\n\u001b[1;32m     11\u001b[0m \u001b[0;32mfrom\u001b[0m \u001b[0mrelative_utils\u001b[0m \u001b[0;32mimport\u001b[0m \u001b[0;34m*\u001b[0m\u001b[0;34m\u001b[0m\u001b[0m\n",
            "\u001b[0;31mImportError\u001b[0m: No module named enc_dec",
            "",
            "\u001b[0;31m---------------------------------------------------------------------------\u001b[0;32m\nNOTE: If your import is failing due to a missing package, you can\nmanually install dependencies using either !pip or !apt.\n\nTo view examples of installing some common dependencies, click the\n\"Open Examples\" button below.\n\u001b[0;31m---------------------------------------------------------------------------\u001b[0m\n"
          ]
        }
      ]
    },
    {
      "cell_type": "code",
      "metadata": {
        "colab": {
          "base_uri": "https://localhost:8080/"
        },
        "id": "vi682eNxSOiU",
        "outputId": "e12b2a7e-0c72-4fc8-a077-971c959527f0"
      },
      "source": [
        "# download LFW\n",
        "# ! wget http://vis-www.cs.umass.edu/lfw/lfw-funneled.tgz\n",
        "# ! tar -xf lfw-funneled.tgz\n",
        "# ! wget http://vis-www.cs.umass.edu/lfw/part_labels/parts_lfw_funneled_superpixels_mat.tgz\n",
        "# ! tar -xf parts_lfw_funneled_superpixels_mat.tgz\n",
        "! wget http://vis-www.cs.umass.edu/lfw/part_labels/parts_lfw_funneled_gt.tgz\n",
        "! tar -xf parts_lfw_funneled_gt.tgz\n",
        "! wget http://vis-www.cs.umass.edu/lfw/part_labels/parts_lfw_funneled_gt_images.tgz\n",
        "! tar -xf parts_lfw_funneled_gt_images.tgz\n",
        "! wget http://vis-www.cs.umass.edu/lfw/part_labels/parts_train.txt\n",
        "! wget http://vis-www.cs.umass.edu/lfw/part_labels/parts_validation.txt\n",
        "! wget http://vis-www.cs.umass.edu/lfw/part_labels/parts_test.txt\n",
        "! ls\n"
      ],
      "execution_count": 1,
      "outputs": [
        {
          "output_type": "stream",
          "text": [
            "--2021-08-02 04:34:46--  http://vis-www.cs.umass.edu/lfw/part_labels/parts_lfw_funneled_gt.tgz\n",
            "Resolving vis-www.cs.umass.edu (vis-www.cs.umass.edu)... 128.119.244.95\n",
            "Connecting to vis-www.cs.umass.edu (vis-www.cs.umass.edu)|128.119.244.95|:80... connected.\n",
            "HTTP request sent, awaiting response... 200 OK\n",
            "Length: 423281 (413K) [application/x-gzip]\n",
            "Saving to: ‘parts_lfw_funneled_gt.tgz’\n",
            "\n",
            "parts_lfw_funneled_ 100%[===================>] 413.36K  1.34MB/s    in 0.3s    \n",
            "\n",
            "2021-08-02 04:34:47 (1.34 MB/s) - ‘parts_lfw_funneled_gt.tgz’ saved [423281/423281]\n",
            "\n",
            "--2021-08-02 04:34:48--  http://vis-www.cs.umass.edu/lfw/part_labels/parts_lfw_funneled_gt_images.tgz\n",
            "Resolving vis-www.cs.umass.edu (vis-www.cs.umass.edu)... 128.119.244.95\n",
            "Connecting to vis-www.cs.umass.edu (vis-www.cs.umass.edu)|128.119.244.95|:80... connected.\n",
            "HTTP request sent, awaiting response... 200 OK\n",
            "Length: 5911038 (5.6M) [application/x-gzip]\n",
            "Saving to: ‘parts_lfw_funneled_gt_images.tgz’\n",
            "\n",
            "parts_lfw_funneled_ 100%[===================>]   5.64M  8.77MB/s    in 0.6s    \n",
            "\n",
            "2021-08-02 04:34:49 (8.77 MB/s) - ‘parts_lfw_funneled_gt_images.tgz’ saved [5911038/5911038]\n",
            "\n",
            "--2021-08-02 04:34:52--  http://vis-www.cs.umass.edu/lfw/part_labels/parts_train.txt\n",
            "Resolving vis-www.cs.umass.edu (vis-www.cs.umass.edu)... 128.119.244.95\n",
            "Connecting to vis-www.cs.umass.edu (vis-www.cs.umass.edu)|128.119.244.95|:80... connected.\n",
            "HTTP request sent, awaiting response... 200 OK\n",
            "Length: 27829 (27K) [text/plain]\n",
            "Saving to: ‘parts_train.txt’\n",
            "\n",
            "parts_train.txt     100%[===================>]  27.18K  --.-KB/s    in 0.08s   \n",
            "\n",
            "2021-08-02 04:34:53 (358 KB/s) - ‘parts_train.txt’ saved [27829/27829]\n",
            "\n",
            "--2021-08-02 04:34:53--  http://vis-www.cs.umass.edu/lfw/part_labels/parts_validation.txt\n",
            "Resolving vis-www.cs.umass.edu (vis-www.cs.umass.edu)... 128.119.244.95\n",
            "Connecting to vis-www.cs.umass.edu (vis-www.cs.umass.edu)|128.119.244.95|:80... connected.\n",
            "HTTP request sent, awaiting response... 200 OK\n",
            "Length: 9270 (9.1K) [text/plain]\n",
            "Saving to: ‘parts_validation.txt’\n",
            "\n",
            "parts_validation.tx 100%[===================>]   9.05K  --.-KB/s    in 0s      \n",
            "\n",
            "2021-08-02 04:34:53 (185 MB/s) - ‘parts_validation.txt’ saved [9270/9270]\n",
            "\n",
            "--2021-08-02 04:34:53--  http://vis-www.cs.umass.edu/lfw/part_labels/parts_test.txt\n",
            "Resolving vis-www.cs.umass.edu (vis-www.cs.umass.edu)... 128.119.244.95\n",
            "Connecting to vis-www.cs.umass.edu (vis-www.cs.umass.edu)|128.119.244.95|:80... connected.\n",
            "HTTP request sent, awaiting response... 200 OK\n",
            "Length: 17082 (17K) [text/plain]\n",
            "Saving to: ‘parts_test.txt’\n",
            "\n",
            "parts_test.txt      100%[===================>]  16.68K  --.-KB/s    in 0.08s   \n",
            "\n",
            "2021-08-02 04:34:53 (215 KB/s) - ‘parts_test.txt’ saved [17082/17082]\n",
            "\n",
            "parts_lfw_funneled_gt\t\t  parts_test.txt\n",
            "parts_lfw_funneled_gt_images\t  parts_train.txt\n",
            "parts_lfw_funneled_gt_images.tgz  parts_validation.txt\n",
            "parts_lfw_funneled_gt.tgz\t  sample_data\n"
          ],
          "name": "stdout"
        }
      ]
    },
    {
      "cell_type": "code",
      "metadata": {
        "collapsed": true,
        "id": "N9BOGT4iRIiL"
      },
      "source": [
        "### define dataset paths\n",
        "# train_img_root = DATA_ROOT + 'part_labels/data/all/'\n",
        "# train_image_list = DATA_ROOT + 'part_labels/splits/train_unlabeled_5k.txt'\n",
        "\n",
        "# val_img_root = DATA_ROOT + 'part_labels/data/all/'\n",
        "# val_image_list = DATA_ROOT + 'part_labels/splits/val_unlabeled_500.txt'\n",
        "\n",
        "train_img_root =  '.'\n",
        "train_image_list =  'train_unlabeled_5k.txt'\n",
        "\n",
        "val_img_root =  '.'\n",
        "val_image_list =  'val_unlabeled_500.txt'"
      ],
      "execution_count": 5,
      "outputs": []
    },
    {
      "cell_type": "code",
      "metadata": {
        "collapsed": true,
        "id": "s33uX56vRIiP",
        "outputId": "24eeffbf-5655-473e-d0cb-b517a4d9773f",
        "colab": {
          "base_uri": "https://localhost:8080/",
          "height": 238
        }
      },
      "source": [
        "crop_shape = (64,64)\n",
        "train_loader = torch.utils.data.DataLoader(RelativeTileDataLoader(img_root = train_img_root,\n",
        "                                                                  image_list = train_image_list, crop_shape = crop_shape,mirror = True),\n",
        "                                           batch_size=128, num_workers=2, shuffle = True, pin_memory=False)\n",
        "\n",
        "val_loader = torch.utils.data.DataLoader(RelativeTileDataLoader(img_root = val_img_root,\n",
        "                                                                  image_list = val_image_list, crop_shape = crop_shape, mirror = True),\n",
        "                                           batch_size=32, num_workers=2, shuffle = False, pin_memory=False)"
      ],
      "execution_count": 6,
      "outputs": [
        {
          "output_type": "error",
          "ename": "NameError",
          "evalue": "ignored",
          "traceback": [
            "\u001b[0;31m\u001b[0m",
            "\u001b[0;31mNameError\u001b[0mTraceback (most recent call last)",
            "\u001b[0;32m<ipython-input-6-0815a33c649a>\u001b[0m in \u001b[0;36m<module>\u001b[0;34m()\u001b[0m\n\u001b[1;32m      1\u001b[0m \u001b[0mcrop_shape\u001b[0m \u001b[0;34m=\u001b[0m \u001b[0;34m(\u001b[0m\u001b[0;36m64\u001b[0m\u001b[0;34m,\u001b[0m\u001b[0;36m64\u001b[0m\u001b[0;34m)\u001b[0m\u001b[0;34m\u001b[0m\u001b[0m\n\u001b[0;32m----> 2\u001b[0;31m train_loader = torch.utils.data.DataLoader(RelativeTileDataLoader(img_root = train_img_root,\n\u001b[0m\u001b[1;32m      3\u001b[0m                                                                   image_list = train_image_list, crop_shape = crop_shape,mirror = True),\n\u001b[1;32m      4\u001b[0m                                            batch_size=128, num_workers=2, shuffle = True, pin_memory=False)\n\u001b[1;32m      5\u001b[0m \u001b[0;34m\u001b[0m\u001b[0m\n",
            "\u001b[0;31mNameError\u001b[0m: name 'torch' is not defined"
          ]
        }
      ]
    },
    {
      "cell_type": "markdown",
      "metadata": {
        "id": "3_gVTHJRRIiU"
      },
      "source": [
        "We define an encoder architecture with 4 convolution layers. We will use context prediction technique to pre-train the encoder in self-supervised way and later use it for face parsing in 3rd notebook."
      ]
    },
    {
      "cell_type": "markdown",
      "metadata": {
        "id": "oD74Oa7aRIiZ"
      },
      "source": [
        "<img src=\"https://docs.google.com/drawings/d/e/2PACX-1vQ8zrtcyVOGwxvd8HgccmSWQad_WKefGT_KDQIu61IcAgzYw-MxfYWgwPKI25mu7etpm2b09jBwoqgj/pub?w=1413&h=360\" width = 1200>"
      ]
    },
    {
      "cell_type": "code",
      "metadata": {
        "collapsed": true,
        "id": "mQpw4vexRIif"
      },
      "source": [
        "net = encoder().cuda()\n",
        "experiment = 'self_supervised_pre_train_relative_tile'"
      ],
      "execution_count": null,
      "outputs": []
    },
    {
      "cell_type": "code",
      "metadata": {
        "id": "WUO6o9SzRIih"
      },
      "source": [
        "print('Net params count (M): ', param_counts(net)/(1000000.0))"
      ],
      "execution_count": null,
      "outputs": []
    },
    {
      "cell_type": "code",
      "metadata": {
        "collapsed": true,
        "id": "-87nbAUWRIij"
      },
      "source": [
        "\"\"\"simple mlp\"\"\"\n",
        "mlp = nn.Sequential(nn.Linear(2048,16),nn.ReLU(),nn.Dropout(0.5),nn.Linear(16,8)).cuda()"
      ],
      "execution_count": null,
      "outputs": []
    },
    {
      "cell_type": "code",
      "metadata": {
        "collapsed": true,
        "id": "X4Rli2ZjRIil"
      },
      "source": [
        "use_cuda = torch.cuda.is_available()\n",
        "best_loss = 9999  # best val loss"
      ],
      "execution_count": null,
      "outputs": []
    },
    {
      "cell_type": "code",
      "metadata": {
        "collapsed": true,
        "id": "DSAkUBKtRIin"
      },
      "source": [
        "loss_fn = nn.CrossEntropyLoss()\n",
        "def train(epoch):\n",
        "    print('\\nTrain epoch: %d' % epoch)\n",
        "    net.train()\n",
        "    mlp.train()\n",
        "    train_loss = 0\n",
        "\n",
        "    for batch_idx, (center_crops, random_crops, class_idxs, class_locs) in enumerate(train_loader):\n",
        "\n",
        "        if use_cuda:\n",
        "            center_crops, random_crops, class_idxs = center_crops.cuda(), random_crops.cuda(), class_idxs.cuda()\n",
        "        optimizer.zero_grad()\n",
        "        \n",
        "        center_crops = Variable(center_crops,requires_grad = True)\n",
        "        random_crops = Variable(random_crops,requires_grad = True)\n",
        "        class_idxs = Variable(class_idxs,requires_grad = False)\n",
        "        \n",
        "        v = torch.cat( (net(center_crops).view(center_crops.size()[0],-1),net(random_crops).view(center_crops.size()[0],-1)),1 )\n",
        "\n",
        "        outputs = mlp(v)\n",
        "        loss = loss_fn(outputs,class_idxs)\n",
        "        \n",
        "\n",
        "        loss.backward()\n",
        "        optimizer.step()\n",
        "        train_loss += loss.data[0]\n",
        "        \n",
        "    print('Loss: %f '% (train_loss/(batch_idx+1)))"
      ],
      "execution_count": null,
      "outputs": []
    },
    {
      "cell_type": "code",
      "metadata": {
        "collapsed": true,
        "id": "8KlxSfnJRIis"
      },
      "source": [
        "def val(epoch):\n",
        "    print('\\nVal epoch: %d' % epoch)\n",
        "    global best_loss\n",
        "    net.eval()\n",
        "    mlp.eval()\n",
        "    val_loss = 0\n",
        "    for batch_idx, (center_crops, random_crops, class_idxs, class_locs) in enumerate(val_loader):\n",
        "        if use_cuda:\n",
        "            center_crops,random_crops,class_idxs = center_crops.cuda(),random_crops.cuda(),class_idxs.cuda()\n",
        "        center_crops = Variable(center_crops,requires_grad=True)\n",
        "        random_crops = Variable(random_crops,requires_grad=True)\n",
        "        class_idxs = Variable(class_idxs,requires_grad=False)\n",
        "        v = torch.cat((net(center_crops).view(center_crops.size()[0],-1),net(random_crops).view(random_crops.size()[0],-1)),1)\n",
        "        outputs = mlp(v)\n",
        "        loss = loss_fn(outputs,class_idxs)\n",
        "        val_loss += loss.data[0]\n",
        "        \n",
        "    print('Loss: %f '% (val_loss/(batch_idx+1)))\n",
        "    # Save checkpoint.\n",
        "    if val_loss < best_loss:\n",
        "        print('Saving..')\n",
        "        state = {'net': net}\n",
        "        if not os.path.isdir(DATA_ROOT + 'checkpoint'):\n",
        "            os.mkdir(DATA_ROOT + 'checkpoint')\n",
        "        torch.save(state, DATA_ROOT + 'checkpoint/'+experiment+'ckpt.t7')\n",
        "        best_loss = val_loss"
      ],
      "execution_count": null,
      "outputs": []
    },
    {
      "cell_type": "code",
      "metadata": {
        "scrolled": true,
        "id": "qPdc5tHRRIiu"
      },
      "source": [
        "optimizer = optim.SGD(list(net.parameters()) + list(mlp.parameters()), lr=0.01, momentum=0.9, weight_decay=0.0005)\n",
        "for epoch in range(0, 100):\n",
        "    if epoch == 80:\n",
        "        optimizer = optim.SGD(list(net.parameters()) + list(mlp.parameters()), lr=0.0001, momentum=0.9, weight_decay=0.0005)\n",
        "    if epoch == 60:\n",
        "        optimizer = optim.SGD(list(net.parameters()) + list(mlp.parameters()), lr=0.001, momentum=0.9, weight_decay=0.0005)\n",
        "    train(epoch)\n",
        "    val(epoch)"
      ],
      "execution_count": null,
      "outputs": []
    },
    {
      "cell_type": "code",
      "metadata": {
        "collapsed": true,
        "id": "NhVUa5JsRIiv"
      },
      "source": [
        ""
      ],
      "execution_count": null,
      "outputs": []
    }
  ]
}