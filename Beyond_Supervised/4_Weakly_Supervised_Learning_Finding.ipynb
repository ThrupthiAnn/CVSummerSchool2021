{
  "nbformat": 4,
  "nbformat_minor": 0,
  "metadata": {
    "kernelspec": {
      "display_name": "Python 3",
      "language": "python",
      "name": "python3"
    },
    "language_info": {
      "codemirror_mode": {
        "name": "ipython",
        "version": 3
      },
      "file_extension": ".py",
      "mimetype": "text/x-python",
      "name": "python",
      "nbconvert_exporter": "python",
      "pygments_lexer": "ipython3",
      "version": "3.6.4"
    },
    "colab": {
      "name": "4-Weakly_Supervised_Learning-Finding5.ipynb",
      "provenance": [],
      "include_colab_link": true
    },
    "accelerator": "GPU",
    "widgets": {
      "application/vnd.jupyter.widget-state+json": {
        "374c426343764f4b9aff175fd4566b89": {
          "model_module": "@jupyter-widgets/controls",
          "model_name": "HBoxModel",
          "state": {
            "_view_name": "HBoxView",
            "_dom_classes": [],
            "_model_name": "HBoxModel",
            "_view_module": "@jupyter-widgets/controls",
            "_model_module_version": "1.5.0",
            "_view_count": null,
            "_view_module_version": "1.5.0",
            "box_style": "",
            "layout": "IPY_MODEL_0a4e848f26014bdeb1a7890b4dd9088d",
            "_model_module": "@jupyter-widgets/controls",
            "children": [
              "IPY_MODEL_cae136650df44d61a939eb005e140fd6",
              "IPY_MODEL_14447358138d4866bfe23b08bac961aa"
            ]
          }
        },
        "0a4e848f26014bdeb1a7890b4dd9088d": {
          "model_module": "@jupyter-widgets/base",
          "model_name": "LayoutModel",
          "state": {
            "_view_name": "LayoutView",
            "grid_template_rows": null,
            "right": null,
            "justify_content": null,
            "_view_module": "@jupyter-widgets/base",
            "overflow": null,
            "_model_module_version": "1.2.0",
            "_view_count": null,
            "flex_flow": null,
            "width": null,
            "min_width": null,
            "border": null,
            "align_items": null,
            "bottom": null,
            "_model_module": "@jupyter-widgets/base",
            "top": null,
            "grid_column": null,
            "overflow_y": null,
            "overflow_x": null,
            "grid_auto_flow": null,
            "grid_area": null,
            "grid_template_columns": null,
            "flex": null,
            "_model_name": "LayoutModel",
            "justify_items": null,
            "grid_row": null,
            "max_height": null,
            "align_content": null,
            "visibility": null,
            "align_self": null,
            "height": null,
            "min_height": null,
            "padding": null,
            "grid_auto_rows": null,
            "grid_gap": null,
            "max_width": null,
            "order": null,
            "_view_module_version": "1.2.0",
            "grid_template_areas": null,
            "object_position": null,
            "object_fit": null,
            "grid_auto_columns": null,
            "margin": null,
            "display": null,
            "left": null
          }
        },
        "cae136650df44d61a939eb005e140fd6": {
          "model_module": "@jupyter-widgets/controls",
          "model_name": "FloatProgressModel",
          "state": {
            "_view_name": "ProgressView",
            "style": "IPY_MODEL_2c4eeede418b4182a018c7ff2dd03197",
            "_dom_classes": [],
            "description": "",
            "_model_name": "FloatProgressModel",
            "bar_style": "success",
            "max": 9912422,
            "_view_module": "@jupyter-widgets/controls",
            "_model_module_version": "1.5.0",
            "value": 9912422,
            "_view_count": null,
            "_view_module_version": "1.5.0",
            "orientation": "horizontal",
            "min": 0,
            "description_tooltip": null,
            "_model_module": "@jupyter-widgets/controls",
            "layout": "IPY_MODEL_55eb14b54c44402aa173bc1bc92a8b11"
          }
        },
        "14447358138d4866bfe23b08bac961aa": {
          "model_module": "@jupyter-widgets/controls",
          "model_name": "HTMLModel",
          "state": {
            "_view_name": "HTMLView",
            "style": "IPY_MODEL_7d97cd2c08414ed8881cfa333d18cbf6",
            "_dom_classes": [],
            "description": "",
            "_model_name": "HTMLModel",
            "placeholder": "​",
            "_view_module": "@jupyter-widgets/controls",
            "_model_module_version": "1.5.0",
            "value": " 9913344/? [04:59&lt;00:00, 33107.46it/s]",
            "_view_count": null,
            "_view_module_version": "1.5.0",
            "description_tooltip": null,
            "_model_module": "@jupyter-widgets/controls",
            "layout": "IPY_MODEL_5e58d020518f486b96bb25990c0e4327"
          }
        },
        "2c4eeede418b4182a018c7ff2dd03197": {
          "model_module": "@jupyter-widgets/controls",
          "model_name": "ProgressStyleModel",
          "state": {
            "_view_name": "StyleView",
            "_model_name": "ProgressStyleModel",
            "description_width": "initial",
            "_view_module": "@jupyter-widgets/base",
            "_model_module_version": "1.5.0",
            "_view_count": null,
            "_view_module_version": "1.2.0",
            "bar_color": null,
            "_model_module": "@jupyter-widgets/controls"
          }
        },
        "55eb14b54c44402aa173bc1bc92a8b11": {
          "model_module": "@jupyter-widgets/base",
          "model_name": "LayoutModel",
          "state": {
            "_view_name": "LayoutView",
            "grid_template_rows": null,
            "right": null,
            "justify_content": null,
            "_view_module": "@jupyter-widgets/base",
            "overflow": null,
            "_model_module_version": "1.2.0",
            "_view_count": null,
            "flex_flow": null,
            "width": null,
            "min_width": null,
            "border": null,
            "align_items": null,
            "bottom": null,
            "_model_module": "@jupyter-widgets/base",
            "top": null,
            "grid_column": null,
            "overflow_y": null,
            "overflow_x": null,
            "grid_auto_flow": null,
            "grid_area": null,
            "grid_template_columns": null,
            "flex": null,
            "_model_name": "LayoutModel",
            "justify_items": null,
            "grid_row": null,
            "max_height": null,
            "align_content": null,
            "visibility": null,
            "align_self": null,
            "height": null,
            "min_height": null,
            "padding": null,
            "grid_auto_rows": null,
            "grid_gap": null,
            "max_width": null,
            "order": null,
            "_view_module_version": "1.2.0",
            "grid_template_areas": null,
            "object_position": null,
            "object_fit": null,
            "grid_auto_columns": null,
            "margin": null,
            "display": null,
            "left": null
          }
        },
        "7d97cd2c08414ed8881cfa333d18cbf6": {
          "model_module": "@jupyter-widgets/controls",
          "model_name": "DescriptionStyleModel",
          "state": {
            "_view_name": "StyleView",
            "_model_name": "DescriptionStyleModel",
            "description_width": "",
            "_view_module": "@jupyter-widgets/base",
            "_model_module_version": "1.5.0",
            "_view_count": null,
            "_view_module_version": "1.2.0",
            "_model_module": "@jupyter-widgets/controls"
          }
        },
        "5e58d020518f486b96bb25990c0e4327": {
          "model_module": "@jupyter-widgets/base",
          "model_name": "LayoutModel",
          "state": {
            "_view_name": "LayoutView",
            "grid_template_rows": null,
            "right": null,
            "justify_content": null,
            "_view_module": "@jupyter-widgets/base",
            "overflow": null,
            "_model_module_version": "1.2.0",
            "_view_count": null,
            "flex_flow": null,
            "width": null,
            "min_width": null,
            "border": null,
            "align_items": null,
            "bottom": null,
            "_model_module": "@jupyter-widgets/base",
            "top": null,
            "grid_column": null,
            "overflow_y": null,
            "overflow_x": null,
            "grid_auto_flow": null,
            "grid_area": null,
            "grid_template_columns": null,
            "flex": null,
            "_model_name": "LayoutModel",
            "justify_items": null,
            "grid_row": null,
            "max_height": null,
            "align_content": null,
            "visibility": null,
            "align_self": null,
            "height": null,
            "min_height": null,
            "padding": null,
            "grid_auto_rows": null,
            "grid_gap": null,
            "max_width": null,
            "order": null,
            "_view_module_version": "1.2.0",
            "grid_template_areas": null,
            "object_position": null,
            "object_fit": null,
            "grid_auto_columns": null,
            "margin": null,
            "display": null,
            "left": null
          }
        },
        "d5c0dcfe596541f9824b668f36e0e71c": {
          "model_module": "@jupyter-widgets/controls",
          "model_name": "HBoxModel",
          "state": {
            "_view_name": "HBoxView",
            "_dom_classes": [],
            "_model_name": "HBoxModel",
            "_view_module": "@jupyter-widgets/controls",
            "_model_module_version": "1.5.0",
            "_view_count": null,
            "_view_module_version": "1.5.0",
            "box_style": "",
            "layout": "IPY_MODEL_f0e048becbe44a3186755fa40f9a68e6",
            "_model_module": "@jupyter-widgets/controls",
            "children": [
              "IPY_MODEL_1bf9851d1d5341daa0d5c5be28768ea7",
              "IPY_MODEL_462791f2e65c48a3952ef9ee7012510e"
            ]
          }
        },
        "f0e048becbe44a3186755fa40f9a68e6": {
          "model_module": "@jupyter-widgets/base",
          "model_name": "LayoutModel",
          "state": {
            "_view_name": "LayoutView",
            "grid_template_rows": null,
            "right": null,
            "justify_content": null,
            "_view_module": "@jupyter-widgets/base",
            "overflow": null,
            "_model_module_version": "1.2.0",
            "_view_count": null,
            "flex_flow": null,
            "width": null,
            "min_width": null,
            "border": null,
            "align_items": null,
            "bottom": null,
            "_model_module": "@jupyter-widgets/base",
            "top": null,
            "grid_column": null,
            "overflow_y": null,
            "overflow_x": null,
            "grid_auto_flow": null,
            "grid_area": null,
            "grid_template_columns": null,
            "flex": null,
            "_model_name": "LayoutModel",
            "justify_items": null,
            "grid_row": null,
            "max_height": null,
            "align_content": null,
            "visibility": null,
            "align_self": null,
            "height": null,
            "min_height": null,
            "padding": null,
            "grid_auto_rows": null,
            "grid_gap": null,
            "max_width": null,
            "order": null,
            "_view_module_version": "1.2.0",
            "grid_template_areas": null,
            "object_position": null,
            "object_fit": null,
            "grid_auto_columns": null,
            "margin": null,
            "display": null,
            "left": null
          }
        },
        "1bf9851d1d5341daa0d5c5be28768ea7": {
          "model_module": "@jupyter-widgets/controls",
          "model_name": "FloatProgressModel",
          "state": {
            "_view_name": "ProgressView",
            "style": "IPY_MODEL_af4dbe98b77d4fa4a6241de5570804a8",
            "_dom_classes": [],
            "description": "",
            "_model_name": "FloatProgressModel",
            "bar_style": "success",
            "max": 28881,
            "_view_module": "@jupyter-widgets/controls",
            "_model_module_version": "1.5.0",
            "value": 28881,
            "_view_count": null,
            "_view_module_version": "1.5.0",
            "orientation": "horizontal",
            "min": 0,
            "description_tooltip": null,
            "_model_module": "@jupyter-widgets/controls",
            "layout": "IPY_MODEL_544b599d628f4d1bb843d45747b24b0a"
          }
        },
        "462791f2e65c48a3952ef9ee7012510e": {
          "model_module": "@jupyter-widgets/controls",
          "model_name": "HTMLModel",
          "state": {
            "_view_name": "HTMLView",
            "style": "IPY_MODEL_ae90efbb936749ba8ded43ef696abe64",
            "_dom_classes": [],
            "description": "",
            "_model_name": "HTMLModel",
            "placeholder": "​",
            "_view_module": "@jupyter-widgets/controls",
            "_model_module_version": "1.5.0",
            "value": " 29696/? [00:40&lt;00:00, 733.04it/s]",
            "_view_count": null,
            "_view_module_version": "1.5.0",
            "description_tooltip": null,
            "_model_module": "@jupyter-widgets/controls",
            "layout": "IPY_MODEL_2ba5cb76c7344b018e27756866fdc539"
          }
        },
        "af4dbe98b77d4fa4a6241de5570804a8": {
          "model_module": "@jupyter-widgets/controls",
          "model_name": "ProgressStyleModel",
          "state": {
            "_view_name": "StyleView",
            "_model_name": "ProgressStyleModel",
            "description_width": "initial",
            "_view_module": "@jupyter-widgets/base",
            "_model_module_version": "1.5.0",
            "_view_count": null,
            "_view_module_version": "1.2.0",
            "bar_color": null,
            "_model_module": "@jupyter-widgets/controls"
          }
        },
        "544b599d628f4d1bb843d45747b24b0a": {
          "model_module": "@jupyter-widgets/base",
          "model_name": "LayoutModel",
          "state": {
            "_view_name": "LayoutView",
            "grid_template_rows": null,
            "right": null,
            "justify_content": null,
            "_view_module": "@jupyter-widgets/base",
            "overflow": null,
            "_model_module_version": "1.2.0",
            "_view_count": null,
            "flex_flow": null,
            "width": null,
            "min_width": null,
            "border": null,
            "align_items": null,
            "bottom": null,
            "_model_module": "@jupyter-widgets/base",
            "top": null,
            "grid_column": null,
            "overflow_y": null,
            "overflow_x": null,
            "grid_auto_flow": null,
            "grid_area": null,
            "grid_template_columns": null,
            "flex": null,
            "_model_name": "LayoutModel",
            "justify_items": null,
            "grid_row": null,
            "max_height": null,
            "align_content": null,
            "visibility": null,
            "align_self": null,
            "height": null,
            "min_height": null,
            "padding": null,
            "grid_auto_rows": null,
            "grid_gap": null,
            "max_width": null,
            "order": null,
            "_view_module_version": "1.2.0",
            "grid_template_areas": null,
            "object_position": null,
            "object_fit": null,
            "grid_auto_columns": null,
            "margin": null,
            "display": null,
            "left": null
          }
        },
        "ae90efbb936749ba8ded43ef696abe64": {
          "model_module": "@jupyter-widgets/controls",
          "model_name": "DescriptionStyleModel",
          "state": {
            "_view_name": "StyleView",
            "_model_name": "DescriptionStyleModel",
            "description_width": "",
            "_view_module": "@jupyter-widgets/base",
            "_model_module_version": "1.5.0",
            "_view_count": null,
            "_view_module_version": "1.2.0",
            "_model_module": "@jupyter-widgets/controls"
          }
        },
        "2ba5cb76c7344b018e27756866fdc539": {
          "model_module": "@jupyter-widgets/base",
          "model_name": "LayoutModel",
          "state": {
            "_view_name": "LayoutView",
            "grid_template_rows": null,
            "right": null,
            "justify_content": null,
            "_view_module": "@jupyter-widgets/base",
            "overflow": null,
            "_model_module_version": "1.2.0",
            "_view_count": null,
            "flex_flow": null,
            "width": null,
            "min_width": null,
            "border": null,
            "align_items": null,
            "bottom": null,
            "_model_module": "@jupyter-widgets/base",
            "top": null,
            "grid_column": null,
            "overflow_y": null,
            "overflow_x": null,
            "grid_auto_flow": null,
            "grid_area": null,
            "grid_template_columns": null,
            "flex": null,
            "_model_name": "LayoutModel",
            "justify_items": null,
            "grid_row": null,
            "max_height": null,
            "align_content": null,
            "visibility": null,
            "align_self": null,
            "height": null,
            "min_height": null,
            "padding": null,
            "grid_auto_rows": null,
            "grid_gap": null,
            "max_width": null,
            "order": null,
            "_view_module_version": "1.2.0",
            "grid_template_areas": null,
            "object_position": null,
            "object_fit": null,
            "grid_auto_columns": null,
            "margin": null,
            "display": null,
            "left": null
          }
        },
        "c908537d2447494ca3c8b6fea82d002d": {
          "model_module": "@jupyter-widgets/controls",
          "model_name": "HBoxModel",
          "state": {
            "_view_name": "HBoxView",
            "_dom_classes": [],
            "_model_name": "HBoxModel",
            "_view_module": "@jupyter-widgets/controls",
            "_model_module_version": "1.5.0",
            "_view_count": null,
            "_view_module_version": "1.5.0",
            "box_style": "",
            "layout": "IPY_MODEL_865a58a33a064790887139b3bfc09ef7",
            "_model_module": "@jupyter-widgets/controls",
            "children": [
              "IPY_MODEL_359f8ecf977d49009520a187173e54bc",
              "IPY_MODEL_0c9498fe6666406086589ad724317eb4"
            ]
          }
        },
        "865a58a33a064790887139b3bfc09ef7": {
          "model_module": "@jupyter-widgets/base",
          "model_name": "LayoutModel",
          "state": {
            "_view_name": "LayoutView",
            "grid_template_rows": null,
            "right": null,
            "justify_content": null,
            "_view_module": "@jupyter-widgets/base",
            "overflow": null,
            "_model_module_version": "1.2.0",
            "_view_count": null,
            "flex_flow": null,
            "width": null,
            "min_width": null,
            "border": null,
            "align_items": null,
            "bottom": null,
            "_model_module": "@jupyter-widgets/base",
            "top": null,
            "grid_column": null,
            "overflow_y": null,
            "overflow_x": null,
            "grid_auto_flow": null,
            "grid_area": null,
            "grid_template_columns": null,
            "flex": null,
            "_model_name": "LayoutModel",
            "justify_items": null,
            "grid_row": null,
            "max_height": null,
            "align_content": null,
            "visibility": null,
            "align_self": null,
            "height": null,
            "min_height": null,
            "padding": null,
            "grid_auto_rows": null,
            "grid_gap": null,
            "max_width": null,
            "order": null,
            "_view_module_version": "1.2.0",
            "grid_template_areas": null,
            "object_position": null,
            "object_fit": null,
            "grid_auto_columns": null,
            "margin": null,
            "display": null,
            "left": null
          }
        },
        "359f8ecf977d49009520a187173e54bc": {
          "model_module": "@jupyter-widgets/controls",
          "model_name": "FloatProgressModel",
          "state": {
            "_view_name": "ProgressView",
            "style": "IPY_MODEL_80394df6325a4067a6fc2a691dfb1d50",
            "_dom_classes": [],
            "description": "",
            "_model_name": "FloatProgressModel",
            "bar_style": "success",
            "max": 1648877,
            "_view_module": "@jupyter-widgets/controls",
            "_model_module_version": "1.5.0",
            "value": 1648877,
            "_view_count": null,
            "_view_module_version": "1.5.0",
            "orientation": "horizontal",
            "min": 0,
            "description_tooltip": null,
            "_model_module": "@jupyter-widgets/controls",
            "layout": "IPY_MODEL_0d66aa3bea3f49e0b83990ee7a8700e0"
          }
        },
        "0c9498fe6666406086589ad724317eb4": {
          "model_module": "@jupyter-widgets/controls",
          "model_name": "HTMLModel",
          "state": {
            "_view_name": "HTMLView",
            "style": "IPY_MODEL_82a899ec49d0421a9d8b04a14639138b",
            "_dom_classes": [],
            "description": "",
            "_model_name": "HTMLModel",
            "placeholder": "​",
            "_view_module": "@jupyter-widgets/controls",
            "_model_module_version": "1.5.0",
            "value": " 1649664/? [00:40&lt;00:00, 41162.71it/s]",
            "_view_count": null,
            "_view_module_version": "1.5.0",
            "description_tooltip": null,
            "_model_module": "@jupyter-widgets/controls",
            "layout": "IPY_MODEL_453877127d5f41dfa52810d9ca651215"
          }
        },
        "80394df6325a4067a6fc2a691dfb1d50": {
          "model_module": "@jupyter-widgets/controls",
          "model_name": "ProgressStyleModel",
          "state": {
            "_view_name": "StyleView",
            "_model_name": "ProgressStyleModel",
            "description_width": "initial",
            "_view_module": "@jupyter-widgets/base",
            "_model_module_version": "1.5.0",
            "_view_count": null,
            "_view_module_version": "1.2.0",
            "bar_color": null,
            "_model_module": "@jupyter-widgets/controls"
          }
        },
        "0d66aa3bea3f49e0b83990ee7a8700e0": {
          "model_module": "@jupyter-widgets/base",
          "model_name": "LayoutModel",
          "state": {
            "_view_name": "LayoutView",
            "grid_template_rows": null,
            "right": null,
            "justify_content": null,
            "_view_module": "@jupyter-widgets/base",
            "overflow": null,
            "_model_module_version": "1.2.0",
            "_view_count": null,
            "flex_flow": null,
            "width": null,
            "min_width": null,
            "border": null,
            "align_items": null,
            "bottom": null,
            "_model_module": "@jupyter-widgets/base",
            "top": null,
            "grid_column": null,
            "overflow_y": null,
            "overflow_x": null,
            "grid_auto_flow": null,
            "grid_area": null,
            "grid_template_columns": null,
            "flex": null,
            "_model_name": "LayoutModel",
            "justify_items": null,
            "grid_row": null,
            "max_height": null,
            "align_content": null,
            "visibility": null,
            "align_self": null,
            "height": null,
            "min_height": null,
            "padding": null,
            "grid_auto_rows": null,
            "grid_gap": null,
            "max_width": null,
            "order": null,
            "_view_module_version": "1.2.0",
            "grid_template_areas": null,
            "object_position": null,
            "object_fit": null,
            "grid_auto_columns": null,
            "margin": null,
            "display": null,
            "left": null
          }
        },
        "82a899ec49d0421a9d8b04a14639138b": {
          "model_module": "@jupyter-widgets/controls",
          "model_name": "DescriptionStyleModel",
          "state": {
            "_view_name": "StyleView",
            "_model_name": "DescriptionStyleModel",
            "description_width": "",
            "_view_module": "@jupyter-widgets/base",
            "_model_module_version": "1.5.0",
            "_view_count": null,
            "_view_module_version": "1.2.0",
            "_model_module": "@jupyter-widgets/controls"
          }
        },
        "453877127d5f41dfa52810d9ca651215": {
          "model_module": "@jupyter-widgets/base",
          "model_name": "LayoutModel",
          "state": {
            "_view_name": "LayoutView",
            "grid_template_rows": null,
            "right": null,
            "justify_content": null,
            "_view_module": "@jupyter-widgets/base",
            "overflow": null,
            "_model_module_version": "1.2.0",
            "_view_count": null,
            "flex_flow": null,
            "width": null,
            "min_width": null,
            "border": null,
            "align_items": null,
            "bottom": null,
            "_model_module": "@jupyter-widgets/base",
            "top": null,
            "grid_column": null,
            "overflow_y": null,
            "overflow_x": null,
            "grid_auto_flow": null,
            "grid_area": null,
            "grid_template_columns": null,
            "flex": null,
            "_model_name": "LayoutModel",
            "justify_items": null,
            "grid_row": null,
            "max_height": null,
            "align_content": null,
            "visibility": null,
            "align_self": null,
            "height": null,
            "min_height": null,
            "padding": null,
            "grid_auto_rows": null,
            "grid_gap": null,
            "max_width": null,
            "order": null,
            "_view_module_version": "1.2.0",
            "grid_template_areas": null,
            "object_position": null,
            "object_fit": null,
            "grid_auto_columns": null,
            "margin": null,
            "display": null,
            "left": null
          }
        },
        "69e27b5a1a6844d3acf07b46209782d3": {
          "model_module": "@jupyter-widgets/controls",
          "model_name": "HBoxModel",
          "state": {
            "_view_name": "HBoxView",
            "_dom_classes": [],
            "_model_name": "HBoxModel",
            "_view_module": "@jupyter-widgets/controls",
            "_model_module_version": "1.5.0",
            "_view_count": null,
            "_view_module_version": "1.5.0",
            "box_style": "",
            "layout": "IPY_MODEL_2ef8510c062646d2aa61be53d2cc50af",
            "_model_module": "@jupyter-widgets/controls",
            "children": [
              "IPY_MODEL_53aec2d445084bc598f620b8a9344edb",
              "IPY_MODEL_57b475933e3f4c3f85cf706b6e3daaf2"
            ]
          }
        },
        "2ef8510c062646d2aa61be53d2cc50af": {
          "model_module": "@jupyter-widgets/base",
          "model_name": "LayoutModel",
          "state": {
            "_view_name": "LayoutView",
            "grid_template_rows": null,
            "right": null,
            "justify_content": null,
            "_view_module": "@jupyter-widgets/base",
            "overflow": null,
            "_model_module_version": "1.2.0",
            "_view_count": null,
            "flex_flow": null,
            "width": null,
            "min_width": null,
            "border": null,
            "align_items": null,
            "bottom": null,
            "_model_module": "@jupyter-widgets/base",
            "top": null,
            "grid_column": null,
            "overflow_y": null,
            "overflow_x": null,
            "grid_auto_flow": null,
            "grid_area": null,
            "grid_template_columns": null,
            "flex": null,
            "_model_name": "LayoutModel",
            "justify_items": null,
            "grid_row": null,
            "max_height": null,
            "align_content": null,
            "visibility": null,
            "align_self": null,
            "height": null,
            "min_height": null,
            "padding": null,
            "grid_auto_rows": null,
            "grid_gap": null,
            "max_width": null,
            "order": null,
            "_view_module_version": "1.2.0",
            "grid_template_areas": null,
            "object_position": null,
            "object_fit": null,
            "grid_auto_columns": null,
            "margin": null,
            "display": null,
            "left": null
          }
        },
        "53aec2d445084bc598f620b8a9344edb": {
          "model_module": "@jupyter-widgets/controls",
          "model_name": "FloatProgressModel",
          "state": {
            "_view_name": "ProgressView",
            "style": "IPY_MODEL_40a4793ff4e7488d923178c3b5a0cc55",
            "_dom_classes": [],
            "description": "",
            "_model_name": "FloatProgressModel",
            "bar_style": "success",
            "max": 4542,
            "_view_module": "@jupyter-widgets/controls",
            "_model_module_version": "1.5.0",
            "value": 4542,
            "_view_count": null,
            "_view_module_version": "1.5.0",
            "orientation": "horizontal",
            "min": 0,
            "description_tooltip": null,
            "_model_module": "@jupyter-widgets/controls",
            "layout": "IPY_MODEL_b9d378c12feb43d3aba688ed95707545"
          }
        },
        "57b475933e3f4c3f85cf706b6e3daaf2": {
          "model_module": "@jupyter-widgets/controls",
          "model_name": "HTMLModel",
          "state": {
            "_view_name": "HTMLView",
            "style": "IPY_MODEL_3bb72176f2744175be45af1ecc544a8c",
            "_dom_classes": [],
            "description": "",
            "_model_name": "HTMLModel",
            "placeholder": "​",
            "_view_module": "@jupyter-widgets/controls",
            "_model_module_version": "1.5.0",
            "value": " 5120/? [00:00&lt;00:00, 9069.57it/s]",
            "_view_count": null,
            "_view_module_version": "1.5.0",
            "description_tooltip": null,
            "_model_module": "@jupyter-widgets/controls",
            "layout": "IPY_MODEL_90efa33d6886425398ddbf894cef1c24"
          }
        },
        "40a4793ff4e7488d923178c3b5a0cc55": {
          "model_module": "@jupyter-widgets/controls",
          "model_name": "ProgressStyleModel",
          "state": {
            "_view_name": "StyleView",
            "_model_name": "ProgressStyleModel",
            "description_width": "initial",
            "_view_module": "@jupyter-widgets/base",
            "_model_module_version": "1.5.0",
            "_view_count": null,
            "_view_module_version": "1.2.0",
            "bar_color": null,
            "_model_module": "@jupyter-widgets/controls"
          }
        },
        "b9d378c12feb43d3aba688ed95707545": {
          "model_module": "@jupyter-widgets/base",
          "model_name": "LayoutModel",
          "state": {
            "_view_name": "LayoutView",
            "grid_template_rows": null,
            "right": null,
            "justify_content": null,
            "_view_module": "@jupyter-widgets/base",
            "overflow": null,
            "_model_module_version": "1.2.0",
            "_view_count": null,
            "flex_flow": null,
            "width": null,
            "min_width": null,
            "border": null,
            "align_items": null,
            "bottom": null,
            "_model_module": "@jupyter-widgets/base",
            "top": null,
            "grid_column": null,
            "overflow_y": null,
            "overflow_x": null,
            "grid_auto_flow": null,
            "grid_area": null,
            "grid_template_columns": null,
            "flex": null,
            "_model_name": "LayoutModel",
            "justify_items": null,
            "grid_row": null,
            "max_height": null,
            "align_content": null,
            "visibility": null,
            "align_self": null,
            "height": null,
            "min_height": null,
            "padding": null,
            "grid_auto_rows": null,
            "grid_gap": null,
            "max_width": null,
            "order": null,
            "_view_module_version": "1.2.0",
            "grid_template_areas": null,
            "object_position": null,
            "object_fit": null,
            "grid_auto_columns": null,
            "margin": null,
            "display": null,
            "left": null
          }
        },
        "3bb72176f2744175be45af1ecc544a8c": {
          "model_module": "@jupyter-widgets/controls",
          "model_name": "DescriptionStyleModel",
          "state": {
            "_view_name": "StyleView",
            "_model_name": "DescriptionStyleModel",
            "description_width": "",
            "_view_module": "@jupyter-widgets/base",
            "_model_module_version": "1.5.0",
            "_view_count": null,
            "_view_module_version": "1.2.0",
            "_model_module": "@jupyter-widgets/controls"
          }
        },
        "90efa33d6886425398ddbf894cef1c24": {
          "model_module": "@jupyter-widgets/base",
          "model_name": "LayoutModel",
          "state": {
            "_view_name": "LayoutView",
            "grid_template_rows": null,
            "right": null,
            "justify_content": null,
            "_view_module": "@jupyter-widgets/base",
            "overflow": null,
            "_model_module_version": "1.2.0",
            "_view_count": null,
            "flex_flow": null,
            "width": null,
            "min_width": null,
            "border": null,
            "align_items": null,
            "bottom": null,
            "_model_module": "@jupyter-widgets/base",
            "top": null,
            "grid_column": null,
            "overflow_y": null,
            "overflow_x": null,
            "grid_auto_flow": null,
            "grid_area": null,
            "grid_template_columns": null,
            "flex": null,
            "_model_name": "LayoutModel",
            "justify_items": null,
            "grid_row": null,
            "max_height": null,
            "align_content": null,
            "visibility": null,
            "align_self": null,
            "height": null,
            "min_height": null,
            "padding": null,
            "grid_auto_rows": null,
            "grid_gap": null,
            "max_width": null,
            "order": null,
            "_view_module_version": "1.2.0",
            "grid_template_areas": null,
            "object_position": null,
            "object_fit": null,
            "grid_auto_columns": null,
            "margin": null,
            "display": null,
            "left": null
          }
        }
      }
    }
  },
  "cells": [
    {
      "cell_type": "markdown",
      "metadata": {
        "id": "view-in-github",
        "colab_type": "text"
      },
      "source": [
        "<a href=\"https://colab.research.google.com/github/ThrupthiAnn/CVSummerSchool2021/blob/main/Beyond_Supervised/4_Weakly_Supervised_Learning_Finding.ipynb\" target=\"_parent\"><img src=\"https://colab.research.google.com/assets/colab-badge.svg\" alt=\"Open In Colab\"/></a>"
      ]
    },
    {
      "cell_type": "markdown",
      "metadata": {
        "id": "6rCfQOs22h_G"
      },
      "source": [
        "# Weakly Supervised Learning (WSL)\n",
        "\n",
        "The class of machine learning algorithms which learn complex machine learning models using *weak* or *in-exact* labels are called as *weakly supervised learning*. These weak labels are often easy to obtain from web in form of meta-data. As a concrete example in the figure below, the hope is to learn an object detector or a segmenter when the only information present in form of annotations is whether an object is present in an image or not. \n",
        "<img src=\"images/fig1.png\">\n",
        "\n",
        "## General Method for Solving WSL\n",
        "There are various approaches described in the literature for solving the problem WSL, including heur. The most traditional among them is **Multiple Instance Learning (MIL)**. \n",
        "### Multiple Instance Learning - Concept\n",
        "The key idea behind MIL is that instead of representing each image by a single feature vector, it represents them by a collection or a set of feature vectors, i.e. by means of multiple instances. So the setting is that we have sets or *bag* of instances (feature vectors) to represent every image, but we still have the label or annotation for the individual bag (instead of the instances). Formally, we have a set of bags with their corresponding labels. A bag is labeled positive if at least one instance in it corresponds to the *positive concept*. We look for a a discriminant, where all patterns from negative bags are on the negative halfspace and at least one pattern from every positive bag is on the positive halfspace, and across all positive bags, some patterns should be in positive halfspace which prevents the positive bag to turn into negative. Graphically, <img src=\"images/fig2.png\" width=350>\n",
        "Briefly, MIL aims to (a) classify new and previously unseen bags as accurate as possible, and (b) discover a “concept” that determines the positive class. \n",
        "### MIL - Optimization\n",
        "#### Notation \n",
        "Let us denote a bag with $X = \\{x_1, x_2, \\dots, x_K\\}$, where $x_i$ are individual instaces of a particular bag. We assume that $K$ could vary with each bag. We denote a single binary label associated with a bag with $Y \\in \\{0,1\\}$. We assume that each instance in the bag also has labels, $y_1, y_2, \\dots, y_K$ which we *don't have access to*. We can re-write assumption of the MIL as,\n",
        "$$Y = \\begin{cases}0,\\ \\mathrm{iff}\\ \\sum_k y_k = 0 \\\\ 1,\\ \\mathrm{otherwise}\\ \\end{cases}$$ \n",
        "or the two statements in the above condition can be merged as, $Y = \\max_k\\{y_k\\}$. \n",
        "#### MIL Approaches\n",
        "In order to effectively learn from such a model, one optimizes log-likelihood function where the bag label is distributed according to the Bernaulli distribution with the parameters $\\theta(X) \\in [0,1]$, i.e. the probability of $Y = 1$ given the bag of instances. \n",
        "##### The Learning Objective\n",
        "Given, (a) a transformation of instances using the function $f$, (b) combination of transformed instances using a symmetric function $\\sigma$, and (c) transformation of combined instances using a function $g$, we define the MIL objective function as:\n",
        "$$\\min \\{\\hat{Y} - g(\\sigma_{x_k}(f(x_k)))\\}$$\n",
        "where, $\\hat{Y}$ is the ground truth label for the bag\n",
        "##### Modeling MIL via Neural Networks\n",
        "We consider r a class of transformations that are parameterized by neural networks $f_\\psi(\\cdot)$, with parameters $\\psi$ that transforms $k$-th instance into a low dimension embedding, $h_k = f_\\psi(x_k)$, where $h_k \\in \\cal{H}$ such that $\\cal{H} = \\mathbb{R}^M$. Eventually, the parameter $\\theta(X)$ is determined by a transformation $g_\\phi: \\cal{H} \\rightarrow [0,1]$. The function $g_\\phi$ is also parameterized by a neural network with parameters $\\phi$. The idea of parameterizing all transformations using neural networks is very appealing because the whole approach can be arbitrarily flexible and it can be trained end-to-end by backpropagation. We have seen till now the modeling of the two transformation function $f$ and $g$, which leaves us with modeling the combination function $\\sigma$. \n",
        "\n",
        "**MIL Pooling: A naive approach - ** In literature many different combination function has been explored. The famous among them are the mean operator $z = \\sum_{k=1}^K h_k$, the max operator $z = \\max_{k=1, \\dots, K}$\\{h_k\\} and log-sum-exponential operator. In neural network jargon, these operators are also known as pooling layers.\n",
        "\n",
        "**Attention MIL: A learnable combination function - ** The mean, max and log-sum-exponential pooling are pre-defined and non-trainable choice of combination function. Attention mechanism tries to alleviate this problem by computing weighted average of the low-dimensional embeddings, where the weights are determined by the neural network. Formally, $$z = \\sum_{k=1}^K \\alpha_k h_k$$ where, $$\\alpha_k = \\frac{\\exp\\{W^T \\tanh(h_k^T)\\}}{\\sum_{j=1}^K \\exp\\{W^T \\tanh(h_j^T)\\}}$$"
      ]
    },
    {
      "cell_type": "markdown",
      "metadata": {
        "id": "oL64Q9522h_e"
      },
      "source": [
        "# Practical: Finding5 - A Simple Weakly Supervised Object Detection Problem\n",
        "<img src=\"images/fig3.jpg\">\n",
        "\n",
        "Let us see a practical use of MIL to detect object in a weakly supervised manner. We will see how this algorithm is modeled for a toy task which will hopefully give us insight into how we can apply the same in a in-the-wild detection setting. \n",
        "\n",
        "Consider the task of finding where the digit 5 is located in the synthetic image (a) below. \n",
        "<img src=\"images/fig4.png\">\n",
        "\n",
        "This synthetic image was generated by using the well known MNIST data set. Each image is of size $112 \\times 112$ and contains a random number of $28 \\times 28$  grayscale images taken from the MNIST data set. The number of digits in each image is Gaussian-distributed. The image is labeled positive (1) if at least one of the digits inside it contains the digit 5, otherwise it is labeled as negative (0). The task is to find where the digit 5 is located in the image (as shown in figure (b) above. \n",
        "\n",
        "In order to make our task simpler, assume that our image is of size $4 \\times 4$ grid and the digits chosen from the MNIST data set are placed randomly in one of these 16 grid locations. We then linearize these grids and remove all the blank spaces as shown in figure below. Note that we can invert the process and so there is no loss of generality.\n",
        "<img src=\"images/fig5.png\">\n",
        "\n",
        "This list now acts as an updated bag (and let's call it MNIST Bags data set) which is fed to the modified LeNet Architecture below."
      ]
    },
    {
      "cell_type": "markdown",
      "metadata": {
        "id": "V1soq3Y52h_v"
      },
      "source": [
        "### Imports"
      ]
    },
    {
      "cell_type": "code",
      "metadata": {
        "id": "2TGGQNRd2h_0"
      },
      "source": [
        "# imports\n",
        "import numpy as np\n",
        "import torch\n",
        "import torch.nn as nn\n",
        "import torch.nn.functional as F\n",
        "import torch.optim as optim\n",
        "import torch.utils.data as data_utils\n",
        "from torchvision import datasets, transforms\n",
        "\n",
        "import matplotlib.pyplot as plt\n",
        "%matplotlib inline"
      ],
      "execution_count": 1,
      "outputs": []
    },
    {
      "cell_type": "markdown",
      "metadata": {
        "id": "Ji2gHxqT2h_3"
      },
      "source": [
        "### Create MNIST-Bags dataset"
      ]
    },
    {
      "cell_type": "code",
      "metadata": {
        "id": "XQYeofCp2h_7"
      },
      "source": [
        "# creating jumbled mnist class\n",
        "class MnistBags(data_utils.Dataset):\n",
        "    \"\"\"\n",
        "    This class creates MNIST-Bags \n",
        "    \"\"\"\n",
        "    def __init__(self, mean_bag_length=5, var_bag_length=2, num_bag=250, seed=1, train=True):\n",
        "        self.target_number = 5 # The number we are interested in detecting [Try other numbers]\n",
        "        self.mean_bag_length = mean_bag_length\n",
        "        self.var_bag_length = var_bag_length\n",
        "        self.num_bag = num_bag\n",
        "        self.train = train\n",
        "\n",
        "        self.r = np.random.RandomState(seed)\n",
        "\n",
        "        self.num_in_train = 60000\n",
        "        self.num_in_test = 10000\n",
        "\n",
        "        if self.train:\n",
        "            self.train_bags_list, self.train_labels_list = self._create_bags()\n",
        "        else:\n",
        "            self.test_bags_list, self.test_labels_list = self._create_bags()\n",
        "\n",
        "    def _create_bags(self):\n",
        "        if self.train:\n",
        "            loader = data_utils.DataLoader(datasets.MNIST('.',\n",
        "                                                          train=True,\n",
        "                                                          download=True,\n",
        "                                                          transform=transforms.Compose([\n",
        "                                                              transforms.ToTensor(),\n",
        "                                                              transforms.Normalize((0.1307,), (0.3081,))])),\n",
        "                                           batch_size=self.num_in_train,\n",
        "                                           shuffle=False)\n",
        "        else:\n",
        "            loader = data_utils.DataLoader(datasets.MNIST('.',\n",
        "                                                          train=False,\n",
        "                                                          download=True,\n",
        "                                                          transform=transforms.Compose([\n",
        "                                                              transforms.ToTensor(),\n",
        "                                                              transforms.Normalize((0.1307,), (0.3081,))])),\n",
        "                                           batch_size=self.num_in_test,\n",
        "                                           shuffle=False)\n",
        "\n",
        "        for (batch_data, batch_labels) in loader:\n",
        "            all_imgs = batch_data\n",
        "            all_labels = batch_labels\n",
        "\n",
        "        bags_list = []\n",
        "        labels_list = []\n",
        "\n",
        "        for i in range(self.num_bag):\n",
        "            bag_length = np.int(self.r.normal(self.mean_bag_length, self.var_bag_length, 1))\n",
        "            if bag_length < 1:\n",
        "                bag_length = 1\n",
        "\n",
        "            if self.train:\n",
        "                indices = torch.LongTensor(self.r.randint(0, self.num_in_train, bag_length))\n",
        "            else:\n",
        "                indices = torch.LongTensor(self.r.randint(0, self.num_in_test, bag_length))\n",
        "\n",
        "            labels_in_bag = all_labels[indices]\n",
        "            labels_in_bag = labels_in_bag == self.target_number\n",
        "\n",
        "            bags_list.append(all_imgs[indices])\n",
        "            labels_list.append(labels_in_bag)\n",
        "\n",
        "        return bags_list, labels_list\n",
        "\n",
        "    def __len__(self):\n",
        "        if self.train:\n",
        "            return len(self.train_labels_list)\n",
        "        else:\n",
        "            return len(self.test_labels_list)\n",
        "\n",
        "    def __getitem__(self, index):\n",
        "        if self.train:\n",
        "            bag = self.train_bags_list[index]\n",
        "            label = [max(self.train_labels_list[index]), self.train_labels_list[index]]\n",
        "        else:\n",
        "            bag = self.test_bags_list[index]\n",
        "            label = [max(self.test_labels_list[index]), self.test_labels_list[index]]\n",
        "\n",
        "        return bag, label"
      ],
      "execution_count": 2,
      "outputs": []
    },
    {
      "cell_type": "markdown",
      "metadata": {
        "id": "v5JljFRO2iAC"
      },
      "source": [
        "### Define MIL Net with LeNet Architecture. Let's call it MILeNet"
      ]
    },
    {
      "cell_type": "code",
      "metadata": {
        "id": "mxYYxBGq2iAH"
      },
      "source": [
        "class MILeNet(nn.Module):\n",
        "    \"\"\"\n",
        "    This class modifies a basic LeNet architecture for the task of weakly supervised detection problem.\n",
        "    \"\"\"\n",
        "    def __init__(self, choice):\n",
        "        super(MILeNet, self).__init__()\n",
        "        # Define hyper-parameters\n",
        "        self.L = 500\n",
        "        self.D = 128\n",
        "        self.K = 1\n",
        "        self.choice = choice    # defines the choice of mil-pooling layer\n",
        "        \n",
        "        # Define convolutional layers\n",
        "        self.conv_feats = nn.Sequential(\n",
        "            nn.Conv2d(1, 20, kernel_size=5),\n",
        "            nn.ReLU(),\n",
        "            nn.MaxPool2d(2, stride=2),\n",
        "            nn.Conv2d(20, 50, kernel_size=5),\n",
        "            nn.ReLU(),\n",
        "            nn.MaxPool2d(2, stride=2)\n",
        "        )\n",
        "        \n",
        "        # Define linear layers\n",
        "        self.lin_feats = nn.Sequential(\n",
        "            nn.Linear(50 * 4 * 4, self.L),\n",
        "            nn.ReLU()\n",
        "        )\n",
        "        \n",
        "        # Define attention layers\n",
        "        self.attention = nn.Sequential(\n",
        "            nn.Linear(self.L, self.D),\n",
        "            nn.Tanh(),\n",
        "            nn.Linear(self.D, self.K)\n",
        "        )\n",
        "        \n",
        "        # Define layers\n",
        "        self.classifier = nn.Sequential(\n",
        "            nn.Linear(self.L * self.K, 1),\n",
        "            nn.Sigmoid()\n",
        "        )\n",
        "        \n",
        "    def forward(self, x):\n",
        "        x = x.squeeze(0)\n",
        "        \n",
        "        H = self.conv_feats(x)           # Nx50x4x4\n",
        "        H = H.view(-1, 50 * 4 * 4)       # Nx800\n",
        "        H = self.lin_feats(H)            # NxL\n",
        "        \n",
        "        s_pool, s_weight = self.mil_pooling(H, self.choice)\n",
        "        \n",
        "        y_prob = self.classifier(s_pool)\n",
        "        y_hat = torch.ge(y_prob, 0.5).float()\n",
        "        \n",
        "        \n",
        "        return y_prob, y_hat, s_weight\n",
        "    \n",
        "    def mil_pooling(self, H, choice):\n",
        "        '''\n",
        "        function for computing multiple instance pooling operation given a particular choice.\n",
        "        '''\n",
        "        if choice == 'mean':\n",
        "            s_pool = torch.mean(H, dim=0, keepdim=True)        # 1xL\n",
        "            s_weight = torch.mean(H, dim=1, keepdim=True)      # Nx1\n",
        "            s_weight = torch.transpose(s_weight, 1, 0)         # 1xN\n",
        "            s_weight = F.softmax(s_weight, dim=1)              # Softmax over N\n",
        "        elif choice == 'max':\n",
        "            s_pool,_ = torch.max(H, dim=0, keepdim=True)       # 1xL\n",
        "            s_weight = torch.mean(H, dim=1, keepdim=True)      # Nx1\n",
        "            s_weight = torch.transpose(s_weight, 1, 0)         # 1xN\n",
        "            s_weight = F.softmax(s_weight, dim=1)              # Softmax over N\n",
        "        elif choice == 'lse':\n",
        "            s_pool = self.logsumexp(H, dim=0, keepdim=True)    # 1xL\n",
        "            s_weight = torch.mean(H, dim=1, keepdim=True)      # Nx1\n",
        "            s_weight = torch.transpose(s_weight, 1, 0)         # 1xN\n",
        "            s_weight = F.softmax(s_weight, dim=1)              # Softmax over N\n",
        "        elif choice == 'attention':\n",
        "            s_weight = self.attention(H)                       # NxK; K=1\n",
        "            s_weight = torch.transpose(s_weight, 1, 0)         # KxN\n",
        "            s_weight = F.softmax(s_weight, dim=1)              # softmax over N\n",
        "            s_pool = torch.mm(s_weight, H)                     # KxL\n",
        "        else:\n",
        "            raise ValueError('Wrong choice of MIL Pooling selected')\n",
        "            \n",
        "        return s_pool, s_weight\n",
        "    \n",
        "    def logsumexp(self, inputs, dim=None, keepdim=False):\n",
        "        \"\"\"\n",
        "        Numerically stable logsumexp.\n",
        "        \"\"\"\n",
        "        s, _ = torch.max(inputs, dim=dim, keepdim=True)\n",
        "        outputs = s + (inputs - s).exp().sum(dim=dim, keepdim=True).log()\n",
        "        if not keepdim:\n",
        "            outputs = outputs.squeeze(dim)\n",
        "        return outputs\n",
        "    \n",
        "    # AUXILIARY METHODS\n",
        "    def calculate_classification_error(self, X, Y):\n",
        "        Y = Y.float()\n",
        "        _, Y_hat, _ = self.forward(X)\n",
        "        error = 1. - Y_hat.eq(Y).cpu().float().mean().item()\n",
        "\n",
        "        return error, Y_hat\n",
        "\n",
        "    def calculate_objective(self, X, Y):\n",
        "        Y = Y.float()\n",
        "        Y_prob, _, f_weight = self.forward(X)\n",
        "        Y_prob = torch.clamp(Y_prob, min=1e-5, max=1. - 1e-5)\n",
        "        neg_log_likelihood = -1. * (Y * torch.log(Y_prob) + (1. - Y) * torch.log(1. - Y_prob))  # negative log bernoulli\n",
        "\n",
        "        return neg_log_likelihood, f_weight"
      ],
      "execution_count": 3,
      "outputs": []
    },
    {
      "cell_type": "markdown",
      "metadata": {
        "id": "1v7GKBZq2iAQ"
      },
      "source": [
        "### The train and test functions"
      ]
    },
    {
      "cell_type": "code",
      "metadata": {
        "id": "3l_oZjqu2iAT"
      },
      "source": [
        "def train(epoch):\n",
        "    model.train()\n",
        "    train_loss = 0.\n",
        "    train_error = 0.\n",
        "    for batch_idx, (data, label) in enumerate(train_loader):\n",
        "        bag_label = label[0]\n",
        "        data, bag_label = data.cuda(), bag_label.cuda()\n",
        "\n",
        "        # reset gradients\n",
        "        optimizer.zero_grad()\n",
        "        \n",
        "        # calculate loss and metrics\n",
        "        loss, _ = model.calculate_objective(data, bag_label)\n",
        "        train_loss += loss.item()\n",
        "        error, _ = model.calculate_classification_error(data, bag_label)\n",
        "        train_error += error\n",
        "        \n",
        "        # backward pass\n",
        "        loss.backward()\n",
        "        \n",
        "        # step\n",
        "        optimizer.step()\n",
        "\n",
        "    # calculate loss and error for epoch\n",
        "    train_loss /= len(train_loader)\n",
        "    train_error /= len(train_loader)\n",
        "\n",
        "    print('Epoch: {}, Loss: {:.4f}, Train error: {:.4f}'.format(epoch, train_loss, train_error))"
      ],
      "execution_count": 4,
      "outputs": []
    },
    {
      "cell_type": "code",
      "metadata": {
        "id": "mvMutlI82iAV"
      },
      "source": [
        "def test():\n",
        "    model.eval()\n",
        "    test_loss = 0.\n",
        "    test_error = 0.\n",
        "    for batch_idx, (data, label) in enumerate(test_loader):\n",
        "        bag_label = label[0]\n",
        "        instance_labels = label[1]\n",
        "        data, bag_label = data.cuda(), bag_label.cuda()\n",
        "        \n",
        "        loss, feature_weights = model.calculate_objective(data, bag_label)\n",
        "        test_loss += loss.item()\n",
        "        error, predicted_label = model.calculate_classification_error(data, bag_label)\n",
        "        test_error += error\n",
        "\n",
        "        if batch_idx < 5:  # plot bag labels and instance labels for first 5 bags of the test set\n",
        "            bag_level = (bag_label.cpu().data.numpy()[0], int(predicted_label.cpu().data.numpy()[0][0]))\n",
        "            instance_level = list(zip(instance_labels.numpy()[0].tolist(),\n",
        "                                 np.round(feature_weights.cpu().data.numpy()[0], decimals=3).tolist()))\n",
        "\n",
        "            print('\\nTrue Bag Label, Predicted Bag Label: {}\\n'\n",
        "                  'True Instance Labels, Feature Weights: {}'.format(bag_level, instance_level))\n",
        "            \n",
        "            \n",
        "            ####\n",
        "            ## Plot the heatmap\n",
        "            nb_instances = data.shape[1]\n",
        "\n",
        "            data = data.squeeze(0)\n",
        "\n",
        "            ind = [x+1 for x in range(nb_instances)]\n",
        "            score = feature_weights.cpu().data.numpy()[0]\n",
        "            show_digits = torch.zeros(28, 28*nb_instances)\n",
        "            show_maps = np.zeros((28, 28*nb_instances), dtype=np.float)\n",
        "            for i in range(nb_instances):\n",
        "                digit = data[i,:,:,:].squeeze(0)\n",
        "                show_digits[:, i*28:(i+1)*28] = digit\n",
        "                show_maps[:, i*28:(i+1)*28].fill(score[i])\n",
        "            \n",
        "            ## plot\n",
        "            plt.figure(batch_idx+1)\n",
        "\n",
        "            plt.subplot(2,1,1)\n",
        "            plt.imshow(show_digits)\n",
        "            plt.axis('off')\n",
        "            \n",
        "            plt.subplot(2,1,2)\n",
        "            plt.imshow(show_maps, cmap=plt.cm.hot)\n",
        "            # plt.colorbar()\n",
        "            plt.show()\n",
        "            \n",
        "            print(100*'#')\n",
        "\n",
        "    test_error /= len(test_loader)\n",
        "    test_loss /= len(test_loader)\n",
        "\n",
        "    print('\\nTest Set, Loss: {:.4f}, Test error: {:.4f}'.format(test_loss, test_error))"
      ],
      "execution_count": 5,
      "outputs": []
    },
    {
      "cell_type": "markdown",
      "metadata": {
        "id": "QG46nAYa2iAY"
      },
      "source": [
        "### Main Function"
      ]
    },
    {
      "cell_type": "code",
      "metadata": {
        "colab": {
          "base_uri": "https://localhost:8080/",
          "height": 1000,
          "referenced_widgets": [
            "374c426343764f4b9aff175fd4566b89",
            "0a4e848f26014bdeb1a7890b4dd9088d",
            "cae136650df44d61a939eb005e140fd6",
            "14447358138d4866bfe23b08bac961aa",
            "2c4eeede418b4182a018c7ff2dd03197",
            "55eb14b54c44402aa173bc1bc92a8b11",
            "7d97cd2c08414ed8881cfa333d18cbf6",
            "5e58d020518f486b96bb25990c0e4327",
            "d5c0dcfe596541f9824b668f36e0e71c",
            "f0e048becbe44a3186755fa40f9a68e6",
            "1bf9851d1d5341daa0d5c5be28768ea7",
            "462791f2e65c48a3952ef9ee7012510e",
            "af4dbe98b77d4fa4a6241de5570804a8",
            "544b599d628f4d1bb843d45747b24b0a",
            "ae90efbb936749ba8ded43ef696abe64",
            "2ba5cb76c7344b018e27756866fdc539",
            "c908537d2447494ca3c8b6fea82d002d",
            "865a58a33a064790887139b3bfc09ef7",
            "359f8ecf977d49009520a187173e54bc",
            "0c9498fe6666406086589ad724317eb4",
            "80394df6325a4067a6fc2a691dfb1d50",
            "0d66aa3bea3f49e0b83990ee7a8700e0",
            "82a899ec49d0421a9d8b04a14639138b",
            "453877127d5f41dfa52810d9ca651215",
            "69e27b5a1a6844d3acf07b46209782d3",
            "2ef8510c062646d2aa61be53d2cc50af",
            "53aec2d445084bc598f620b8a9344edb",
            "57b475933e3f4c3f85cf706b6e3daaf2",
            "40a4793ff4e7488d923178c3b5a0cc55",
            "b9d378c12feb43d3aba688ed95707545",
            "3bb72176f2744175be45af1ecc544a8c",
            "90efa33d6886425398ddbf894cef1c24"
          ]
        },
        "id": "RKZxXWZu2iAa",
        "outputId": "2e72289c-1240-4c9f-be34-a821a0d63e2d"
      },
      "source": [
        "if __name__ == \"__main__\":\n",
        "    ## Load the train and the test set\n",
        "    print('Load Train and Test Set')\n",
        "    loader_kwargs = {'num_workers': 1, 'pin_memory': True} \n",
        "\n",
        "    train_loader = data_utils.DataLoader(MnistBags(num_bag=1000,\n",
        "                                                   train=True),\n",
        "                                         batch_size=1,\n",
        "                                         shuffle=True,\n",
        "                                         **loader_kwargs)\n",
        "\n",
        "    test_loader = data_utils.DataLoader(MnistBags(num_bag=50,\n",
        "                                                  train=False),\n",
        "                                        batch_size=1,\n",
        "                                        shuffle=False,\n",
        "                                        **loader_kwargs)\n",
        "    \n",
        "    ## Initialize the model\n",
        "    print('Init Model')\n",
        "    choice = 'mean'    # select one in 'mean', 'max', 'lse', 'attention'\n",
        "    model = MILeNet(choice)\n",
        "    model.cuda()\n",
        "    optimizer = optim.Adam(model.parameters(), weight_decay=10e-5)\n",
        "    \n",
        "    ## Start training\n",
        "    print('Start Training')\n",
        "    nb_epochs = 20        # number of training epochs\n",
        "    for epoch in range(1, nb_epochs + 1):\n",
        "        train(epoch)\n",
        "    print('Start Testing')\n",
        "    test()"
      ],
      "execution_count": 6,
      "outputs": [
        {
          "output_type": "stream",
          "text": [
            "Load Train and Test Set\n",
            "Downloading http://yann.lecun.com/exdb/mnist/train-images-idx3-ubyte.gz\n",
            "Downloading http://yann.lecun.com/exdb/mnist/train-images-idx3-ubyte.gz to ./MNIST/raw/train-images-idx3-ubyte.gz\n"
          ],
          "name": "stdout"
        },
        {
          "output_type": "display_data",
          "data": {
            "application/vnd.jupyter.widget-view+json": {
              "model_id": "374c426343764f4b9aff175fd4566b89",
              "version_minor": 0,
              "version_major": 2
            },
            "text/plain": [
              "HBox(children=(FloatProgress(value=0.0, max=9912422.0), HTML(value='')))"
            ]
          },
          "metadata": {
            "tags": []
          }
        },
        {
          "output_type": "stream",
          "text": [
            "\n",
            "Extracting ./MNIST/raw/train-images-idx3-ubyte.gz to ./MNIST/raw\n",
            "\n",
            "Downloading http://yann.lecun.com/exdb/mnist/train-labels-idx1-ubyte.gz\n",
            "Downloading http://yann.lecun.com/exdb/mnist/train-labels-idx1-ubyte.gz to ./MNIST/raw/train-labels-idx1-ubyte.gz\n"
          ],
          "name": "stdout"
        },
        {
          "output_type": "display_data",
          "data": {
            "application/vnd.jupyter.widget-view+json": {
              "model_id": "d5c0dcfe596541f9824b668f36e0e71c",
              "version_minor": 0,
              "version_major": 2
            },
            "text/plain": [
              "HBox(children=(FloatProgress(value=0.0, max=28881.0), HTML(value='')))"
            ]
          },
          "metadata": {
            "tags": []
          }
        },
        {
          "output_type": "stream",
          "text": [
            "\n",
            "Extracting ./MNIST/raw/train-labels-idx1-ubyte.gz to ./MNIST/raw\n",
            "\n",
            "Downloading http://yann.lecun.com/exdb/mnist/t10k-images-idx3-ubyte.gz\n",
            "Downloading http://yann.lecun.com/exdb/mnist/t10k-images-idx3-ubyte.gz to ./MNIST/raw/t10k-images-idx3-ubyte.gz\n"
          ],
          "name": "stdout"
        },
        {
          "output_type": "display_data",
          "data": {
            "application/vnd.jupyter.widget-view+json": {
              "model_id": "c908537d2447494ca3c8b6fea82d002d",
              "version_minor": 0,
              "version_major": 2
            },
            "text/plain": [
              "HBox(children=(FloatProgress(value=0.0, max=1648877.0), HTML(value='')))"
            ]
          },
          "metadata": {
            "tags": []
          }
        },
        {
          "output_type": "stream",
          "text": [
            "\n",
            "Extracting ./MNIST/raw/t10k-images-idx3-ubyte.gz to ./MNIST/raw\n",
            "\n",
            "Downloading http://yann.lecun.com/exdb/mnist/t10k-labels-idx1-ubyte.gz\n",
            "Downloading http://yann.lecun.com/exdb/mnist/t10k-labels-idx1-ubyte.gz to ./MNIST/raw/t10k-labels-idx1-ubyte.gz\n"
          ],
          "name": "stdout"
        },
        {
          "output_type": "display_data",
          "data": {
            "application/vnd.jupyter.widget-view+json": {
              "model_id": "69e27b5a1a6844d3acf07b46209782d3",
              "version_minor": 0,
              "version_major": 2
            },
            "text/plain": [
              "HBox(children=(FloatProgress(value=0.0, max=4542.0), HTML(value='')))"
            ]
          },
          "metadata": {
            "tags": []
          }
        },
        {
          "output_type": "stream",
          "text": [
            "\n",
            "Extracting ./MNIST/raw/t10k-labels-idx1-ubyte.gz to ./MNIST/raw\n",
            "\n"
          ],
          "name": "stdout"
        },
        {
          "output_type": "stream",
          "text": [
            "/usr/local/lib/python3.7/dist-packages/torchvision/datasets/mnist.py:498: UserWarning: The given NumPy array is not writeable, and PyTorch does not support non-writeable tensors. This means you can write to the underlying (supposedly non-writeable) NumPy array using the tensor. You may want to copy the array to protect its data or make it writeable before converting it to a tensor. This type of warning will be suppressed for the rest of this program. (Triggered internally at  /pytorch/torch/csrc/utils/tensor_numpy.cpp:180.)\n",
            "  return torch.from_numpy(parsed.astype(m[2], copy=False)).view(*s)\n"
          ],
          "name": "stderr"
        },
        {
          "output_type": "stream",
          "text": [
            "Init Model\n",
            "Start Training\n"
          ],
          "name": "stdout"
        },
        {
          "output_type": "stream",
          "text": [
            "/usr/local/lib/python3.7/dist-packages/torch/nn/functional.py:718: UserWarning: Named tensors and all their associated APIs are an experimental feature and subject to change. Please do not use them for anything important until they are released as stable. (Triggered internally at  /pytorch/c10/core/TensorImpl.h:1156.)\n",
            "  return torch.max_pool2d(input, kernel_size, stride, padding, dilation, ceil_mode)\n"
          ],
          "name": "stderr"
        },
        {
          "output_type": "stream",
          "text": [
            "Epoch: 1, Loss: 0.5329, Train error: 0.2560\n",
            "Epoch: 2, Loss: 0.2250, Train error: 0.0710\n",
            "Epoch: 3, Loss: 0.1070, Train error: 0.0350\n",
            "Epoch: 4, Loss: 0.0999, Train error: 0.0240\n",
            "Epoch: 5, Loss: 1.5411, Train error: 0.1400\n",
            "Epoch: 6, Loss: 3.8108, Train error: 0.3310\n",
            "Epoch: 7, Loss: 3.8108, Train error: 0.3310\n",
            "Epoch: 8, Loss: 3.8108, Train error: 0.3310\n",
            "Epoch: 9, Loss: 3.8108, Train error: 0.3310\n",
            "Epoch: 10, Loss: 3.8108, Train error: 0.3310\n",
            "Epoch: 11, Loss: 3.8108, Train error: 0.3310\n",
            "Epoch: 12, Loss: 3.2674, Train error: 0.2920\n",
            "Epoch: 13, Loss: 0.1095, Train error: 0.0340\n",
            "Epoch: 14, Loss: 0.0816, Train error: 0.0300\n",
            "Epoch: 15, Loss: 0.0848, Train error: 0.0190\n",
            "Epoch: 16, Loss: 0.0658, Train error: 0.0220\n",
            "Epoch: 17, Loss: 0.0262, Train error: 0.0070\n",
            "Epoch: 18, Loss: 0.0497, Train error: 0.0140\n",
            "Epoch: 19, Loss: 0.0176, Train error: 0.0030\n",
            "Epoch: 20, Loss: 0.1151, Train error: 0.0200\n",
            "Start Testing\n",
            "\n",
            "True Bag Label, Predicted Bag Label: (True, 1)\n",
            "True Instance Labels, Feature Weights: [(False, 0.0430000014603138), (False, 0.041999999433755875), (False, 0.03999999910593033), (True, 0.19699999690055847), (False, 0.054999999701976776), (False, 0.0560000017285347), (False, 0.03700000047683716), (True, 0.5289999842643738)]\n"
          ],
          "name": "stdout"
        },
        {
          "output_type": "display_data",
          "data": {
            "image/png": "[encoded data removed]",
            "text/plain": [
              "<Figure size 432x288 with 2 Axes>"
            ]
          },
          "metadata": {
            "tags": [],
            "needs_background": "light"
          }
        },
        {
          "output_type": "stream",
          "text": [
            "####################################################################################################\n",
            "\n",
            "True Bag Label, Predicted Bag Label: (True, 1)\n",
            "True Instance Labels, Feature Weights: [(False, 0.12200000137090683), (False, 0.12399999797344208), (True, 0.7549999952316284)]\n"
          ],
          "name": "stdout"
        },
        {
          "output_type": "display_data",
          "data": {
            "image/png": "[encoded data removed]",
            "text/plain": [
              "<Figure size 432x288 with 2 Axes>"
            ]
          },
          "metadata": {
            "tags": [],
            "needs_background": "light"
          }
        },
        {
          "output_type": "stream",
          "text": [
            "####################################################################################################\n",
            "\n",
            "True Bag Label, Predicted Bag Label: (True, 1)\n",
            "True Instance Labels, Feature Weights: [(True, 0.3919999897480011), (False, 0.14300000667572021), (False, 0.14300000667572021), (False, 0.1550000011920929), (False, 0.16699999570846558)]\n"
          ],
          "name": "stdout"
        },
        {
          "output_type": "display_data",
          "data": {
            "image/png": "[encoded data removed]",
            "text/plain": [
              "<Figure size 432x288 with 2 Axes>"
            ]
          },
          "metadata": {
            "tags": [],
            "needs_background": "light"
          }
        },
        {
          "output_type": "stream",
          "text": [
            "####################################################################################################\n",
            "\n",
            "True Bag Label, Predicted Bag Label: (False, 0)\n",
            "True Instance Labels, Feature Weights: [(False, 1.0)]\n"
          ],
          "name": "stdout"
        },
        {
          "output_type": "display_data",
          "data": {
            "image/png": "[encoded data removed]",
            "text/plain": [
              "<Figure size 432x288 with 2 Axes>"
            ]
          },
          "metadata": {
            "tags": [],
            "needs_background": "light"
          }
        },
        {
          "output_type": "stream",
          "text": [
            "####################################################################################################\n",
            "\n",
            "True Bag Label, Predicted Bag Label: (True, 1)\n",
            "True Instance Labels, Feature Weights: [(False, 0.22699999809265137), (True, 0.31299999356269836), (False, 0.1809999942779541), (False, 0.2800000011920929)]\n"
          ],
          "name": "stdout"
        },
        {
          "output_type": "display_data",
          "data": {
            "image/png": "[encoded data removed]",
            "text/plain": [
              "<Figure size 432x288 with 2 Axes>"
            ]
          },
          "metadata": {
            "tags": [],
            "needs_background": "light"
          }
        },
        {
          "output_type": "stream",
          "text": [
            "####################################################################################################\n",
            "\n",
            "Test Set, Loss: 0.2480, Test error: 0.0400\n"
          ],
          "name": "stdout"
        }
      ]
    },
    {
      "cell_type": "markdown",
      "metadata": {
        "id": "l6tf1mVy2iAi"
      },
      "source": [
        "### Excercise\n",
        "\n",
        "1. Select different pooling layers and observe the effect on accuracy.\n",
        "2. Change the hyper-parameters like bag size (num_bags and not the batch size), epochs, and bag length. See the effect on accuracy for each set of hyper-parameter values.\n",
        "3. See the results for other digits (apart from 5)."
      ]
    },
    {
      "cell_type": "code",
      "metadata": {
        "id": "vh5Py8Yh-EXk"
      },
      "source": [
        ""
      ],
      "execution_count": null,
      "outputs": []
    }
  ]
}